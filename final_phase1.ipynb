{
 "cells": [
  {
   "cell_type": "code",
   "execution_count": 48,
   "metadata": {},
   "outputs": [],
   "source": [
    "\n",
    "import numpy as np\n",
    "import pandas as pd\n",
    "import matplotlib.pyplot as plt\n",
    "from datetime import datetime\n",
    "%matplotlib inline\n",
    "import seaborn as sns\n",
    "from sklearn.tree import DecisionTreeClassifier\n",
    "from sklearn.neighbors import KNeighborsClassifier\n",
    "from sklearn.ensemble import RandomForestClassifier,GradientBoostingClassifier,AdaBoostClassifier,RandomForestRegressor,GradientBoostingRegressor,AdaBoostRegressor\n",
    "import xgboost as xgb\n",
    "from sklearn.metrics import roc_auc_score,f1_score,recall_score,accuracy_score,cohen_kappa_score,log_loss\n",
    "from sklearn.preprocessing import LabelEncoder,OneHotEncoder\n",
    "from sklearn.decomposition import PCA\n",
    "from sklearn.model_selection import train_test_split,GridSearchCV,RandomizedSearchCV"
   ]
  },
  {
   "cell_type": "code",
   "execution_count": 49,
   "metadata": {},
   "outputs": [],
   "source": [
    "df = pd.read_csv('train.csv')\n",
    "df1=pd.read_csv('train.csv')"
   ]
  },
  {
   "cell_type": "code",
   "execution_count": 50,
   "metadata": {},
   "outputs": [
    {
     "data": {
      "text/plain": [
       "(878049, 9)"
      ]
     },
     "execution_count": 50,
     "metadata": {},
     "output_type": "execute_result"
    }
   ],
   "source": [
    "df.shape"
   ]
  },
  {
   "cell_type": "code",
   "execution_count": 53,
   "metadata": {},
   "outputs": [
    {
     "data": {
      "text/html": [
       "<div>\n",
       "<style scoped>\n",
       "    .dataframe tbody tr th:only-of-type {\n",
       "        vertical-align: middle;\n",
       "    }\n",
       "\n",
       "    .dataframe tbody tr th {\n",
       "        vertical-align: top;\n",
       "    }\n",
       "\n",
       "    .dataframe thead th {\n",
       "        text-align: right;\n",
       "    }\n",
       "</style>\n",
       "<table border=\"1\" class=\"dataframe\">\n",
       "  <thead>\n",
       "    <tr style=\"text-align: right;\">\n",
       "      <th></th>\n",
       "      <th>Dates</th>\n",
       "      <th>Category</th>\n",
       "      <th>Descript</th>\n",
       "      <th>DayOfWeek</th>\n",
       "      <th>PdDistrict</th>\n",
       "      <th>Resolution</th>\n",
       "      <th>Address</th>\n",
       "      <th>X</th>\n",
       "      <th>Y</th>\n",
       "    </tr>\n",
       "  </thead>\n",
       "  <tbody>\n",
       "    <tr>\n",
       "      <td>0</td>\n",
       "      <td>5/13/2015 23:53</td>\n",
       "      <td>WARRANTS</td>\n",
       "      <td>WARRANT ARREST</td>\n",
       "      <td>Wednesday</td>\n",
       "      <td>NORTHERN</td>\n",
       "      <td>ARREST, BOOKED</td>\n",
       "      <td>OAK ST / LAGUNA ST</td>\n",
       "      <td>-122.425892</td>\n",
       "      <td>37.774599</td>\n",
       "    </tr>\n",
       "    <tr>\n",
       "      <td>1</td>\n",
       "      <td>5/13/2015 23:53</td>\n",
       "      <td>OTHER OFFENSES</td>\n",
       "      <td>TRAFFIC VIOLATION ARREST</td>\n",
       "      <td>Wednesday</td>\n",
       "      <td>NORTHERN</td>\n",
       "      <td>ARREST, BOOKED</td>\n",
       "      <td>OAK ST / LAGUNA ST</td>\n",
       "      <td>-122.425892</td>\n",
       "      <td>37.774599</td>\n",
       "    </tr>\n",
       "    <tr>\n",
       "      <td>2</td>\n",
       "      <td>5/13/2015 23:33</td>\n",
       "      <td>OTHER OFFENSES</td>\n",
       "      <td>TRAFFIC VIOLATION ARREST</td>\n",
       "      <td>Wednesday</td>\n",
       "      <td>NORTHERN</td>\n",
       "      <td>ARREST, BOOKED</td>\n",
       "      <td>VANNESS AV / GREENWICH ST</td>\n",
       "      <td>-122.424363</td>\n",
       "      <td>37.800414</td>\n",
       "    </tr>\n",
       "    <tr>\n",
       "      <td>3</td>\n",
       "      <td>5/13/2015 23:30</td>\n",
       "      <td>LARCENY/THEFT</td>\n",
       "      <td>GRAND THEFT FROM LOCKED AUTO</td>\n",
       "      <td>Wednesday</td>\n",
       "      <td>NORTHERN</td>\n",
       "      <td>NONE</td>\n",
       "      <td>1500 Block of LOMBARD ST</td>\n",
       "      <td>-122.426995</td>\n",
       "      <td>37.800873</td>\n",
       "    </tr>\n",
       "    <tr>\n",
       "      <td>4</td>\n",
       "      <td>5/13/2015 23:30</td>\n",
       "      <td>LARCENY/THEFT</td>\n",
       "      <td>GRAND THEFT FROM LOCKED AUTO</td>\n",
       "      <td>Wednesday</td>\n",
       "      <td>PARK</td>\n",
       "      <td>NONE</td>\n",
       "      <td>100 Block of BRODERICK ST</td>\n",
       "      <td>-122.438738</td>\n",
       "      <td>37.771541</td>\n",
       "    </tr>\n",
       "  </tbody>\n",
       "</table>\n",
       "</div>"
      ],
      "text/plain": [
       "             Dates        Category                      Descript  DayOfWeek  \\\n",
       "0  5/13/2015 23:53        WARRANTS                WARRANT ARREST  Wednesday   \n",
       "1  5/13/2015 23:53  OTHER OFFENSES      TRAFFIC VIOLATION ARREST  Wednesday   \n",
       "2  5/13/2015 23:33  OTHER OFFENSES      TRAFFIC VIOLATION ARREST  Wednesday   \n",
       "3  5/13/2015 23:30   LARCENY/THEFT  GRAND THEFT FROM LOCKED AUTO  Wednesday   \n",
       "4  5/13/2015 23:30   LARCENY/THEFT  GRAND THEFT FROM LOCKED AUTO  Wednesday   \n",
       "\n",
       "  PdDistrict      Resolution                    Address           X          Y  \n",
       "0   NORTHERN  ARREST, BOOKED         OAK ST / LAGUNA ST -122.425892  37.774599  \n",
       "1   NORTHERN  ARREST, BOOKED         OAK ST / LAGUNA ST -122.425892  37.774599  \n",
       "2   NORTHERN  ARREST, BOOKED  VANNESS AV / GREENWICH ST -122.424363  37.800414  \n",
       "3   NORTHERN            NONE   1500 Block of LOMBARD ST -122.426995  37.800873  \n",
       "4       PARK            NONE  100 Block of BRODERICK ST -122.438738  37.771541  "
      ]
     },
     "execution_count": 53,
     "metadata": {},
     "output_type": "execute_result"
    }
   ],
   "source": [
    "df.head()\n"
   ]
  },
  {
   "cell_type": "code",
   "execution_count": 54,
   "metadata": {},
   "outputs": [],
   "source": [
    "df=df.drop(columns=[\"Descript\",\"Resolution\"])"
   ]
  },
  {
   "cell_type": "code",
   "execution_count": 56,
   "metadata": {},
   "outputs": [],
   "source": [
    "Dates_datetime=list(map(lambda x:datetime.strptime(x,\"%m/%d/%Y %H:%M\"),df[\"Dates\"]))"
   ]
  },
  {
   "cell_type": "code",
   "execution_count": 57,
   "metadata": {},
   "outputs": [],
   "source": [
    "Dates_year=list(map(lambda x:x.year,Dates_datetime))\n",
    "Dates_month=list(map(lambda x:x.month,Dates_datetime))\n",
    "Dates_hour=list(map(lambda x:x.hour,Dates_datetime))"
   ]
  },
  {
   "cell_type": "code",
   "execution_count": 58,
   "metadata": {},
   "outputs": [],
   "source": [
    "df[\"year\"]=Dates_year\n",
    "df[\"month\"]=Dates_month\n",
    "df[\"hour\"]=Dates_hour\n",
    "df.drop(columns=\"Dates\",inplace=True)"
   ]
  },
  {
   "cell_type": "code",
   "execution_count": 59,
   "metadata": {},
   "outputs": [],
   "source": [
    "df=df.merge(pd.get_dummies(df[\"DayOfWeek\"]),on=df.index)\n",
    "df.drop(columns=\"key_0\",inplace=True)\n",
    "df=df.merge(pd.get_dummies(df[\"PdDistrict\"]),on=df.index)\n",
    "df.drop(columns=\"key_0\",inplace=True)"
   ]
  },
  {
   "cell_type": "code",
   "execution_count": 60,
   "metadata": {},
   "outputs": [
    {
     "data": {
      "text/plain": [
       "(878049, 26)"
      ]
     },
     "execution_count": 60,
     "metadata": {},
     "output_type": "execute_result"
    }
   ],
   "source": [
    "df.shape"
   ]
  },
  {
   "cell_type": "code",
   "execution_count": 62,
   "metadata": {},
   "outputs": [],
   "source": [
    "\n",
    "# finding which crime is dominant in which district\n",
    "mode_crime=[]\n",
    "mode_crime_count=[]\n",
    "dist=[]\n",
    "for i,j in df.groupby(by=\"PdDistrict\"):\n",
    "    dist.append(i)\n",
    "    crime_count=[]\n",
    "    crime_name=[]\n",
    "      for a,b in j.groupby(by=\"Category\"):\n",
    "        crime_count.append(len(b))\n",
    "        crime_name.append(a)\n",
    "    mode_crime.append(crime_name[np.argmax(np.array(crime_count))])\n",
    "    mode_crime_count.append(max(crime_count))"
   ]
  },
  {
   "cell_type": "code",
   "execution_count": 63,
   "metadata": {},
   "outputs": [],
   "source": [
    "\n",
    "crime_summary=pd.DataFrame({\"District\":dist,\"dominant_crime\":mode_crime,\"count\":mode_crime_count})"
   ]
  },
  {
   "cell_type": "code",
   "execution_count": 64,
   "metadata": {},
   "outputs": [
    {
     "data": {
      "text/html": [
       "<div>\n",
       "<style scoped>\n",
       "    .dataframe tbody tr th:only-of-type {\n",
       "        vertical-align: middle;\n",
       "    }\n",
       "\n",
       "    .dataframe tbody tr th {\n",
       "        vertical-align: top;\n",
       "    }\n",
       "\n",
       "    .dataframe thead th {\n",
       "        text-align: right;\n",
       "    }\n",
       "</style>\n",
       "<table border=\"1\" class=\"dataframe\">\n",
       "  <thead>\n",
       "    <tr style=\"text-align: right;\">\n",
       "      <th></th>\n",
       "      <th>District</th>\n",
       "      <th>dominant_crime</th>\n",
       "      <th>count</th>\n",
       "    </tr>\n",
       "  </thead>\n",
       "  <tbody>\n",
       "    <tr>\n",
       "      <td>0</td>\n",
       "      <td>BAYVIEW</td>\n",
       "      <td>OTHER OFFENSES</td>\n",
       "      <td>17053</td>\n",
       "    </tr>\n",
       "    <tr>\n",
       "      <td>1</td>\n",
       "      <td>CENTRAL</td>\n",
       "      <td>LARCENY/THEFT</td>\n",
       "      <td>25060</td>\n",
       "    </tr>\n",
       "    <tr>\n",
       "      <td>2</td>\n",
       "      <td>INGLESIDE</td>\n",
       "      <td>OTHER OFFENSES</td>\n",
       "      <td>13203</td>\n",
       "    </tr>\n",
       "    <tr>\n",
       "      <td>3</td>\n",
       "      <td>MISSION</td>\n",
       "      <td>OTHER OFFENSES</td>\n",
       "      <td>19330</td>\n",
       "    </tr>\n",
       "    <tr>\n",
       "      <td>4</td>\n",
       "      <td>NORTHERN</td>\n",
       "      <td>LARCENY/THEFT</td>\n",
       "      <td>28630</td>\n",
       "    </tr>\n",
       "    <tr>\n",
       "      <td>5</td>\n",
       "      <td>PARK</td>\n",
       "      <td>LARCENY/THEFT</td>\n",
       "      <td>9146</td>\n",
       "    </tr>\n",
       "    <tr>\n",
       "      <td>6</td>\n",
       "      <td>RICHMOND</td>\n",
       "      <td>LARCENY/THEFT</td>\n",
       "      <td>9893</td>\n",
       "    </tr>\n",
       "    <tr>\n",
       "      <td>7</td>\n",
       "      <td>SOUTHERN</td>\n",
       "      <td>LARCENY/THEFT</td>\n",
       "      <td>41845</td>\n",
       "    </tr>\n",
       "    <tr>\n",
       "      <td>8</td>\n",
       "      <td>TARAVAL</td>\n",
       "      <td>LARCENY/THEFT</td>\n",
       "      <td>11845</td>\n",
       "    </tr>\n",
       "    <tr>\n",
       "      <td>9</td>\n",
       "      <td>TENDERLOIN</td>\n",
       "      <td>DRUG/NARCOTIC</td>\n",
       "      <td>17696</td>\n",
       "    </tr>\n",
       "  </tbody>\n",
       "</table>\n",
       "</div>"
      ],
      "text/plain": [
       "     District  dominant_crime  count\n",
       "0     BAYVIEW  OTHER OFFENSES  17053\n",
       "1     CENTRAL   LARCENY/THEFT  25060\n",
       "2   INGLESIDE  OTHER OFFENSES  13203\n",
       "3     MISSION  OTHER OFFENSES  19330\n",
       "4    NORTHERN   LARCENY/THEFT  28630\n",
       "5        PARK   LARCENY/THEFT   9146\n",
       "6    RICHMOND   LARCENY/THEFT   9893\n",
       "7    SOUTHERN   LARCENY/THEFT  41845\n",
       "8     TARAVAL   LARCENY/THEFT  11845\n",
       "9  TENDERLOIN   DRUG/NARCOTIC  17696"
      ]
     },
     "execution_count": 64,
     "metadata": {},
     "output_type": "execute_result"
    }
   ],
   "source": [
    "crime_summary"
   ]
  },
  {
   "cell_type": "code",
   "execution_count": 65,
   "metadata": {},
   "outputs": [
    {
     "data": {
      "text/html": [
       "<div>\n",
       "<style scoped>\n",
       "    .dataframe tbody tr th:only-of-type {\n",
       "        vertical-align: middle;\n",
       "    }\n",
       "\n",
       "    .dataframe tbody tr th {\n",
       "        vertical-align: top;\n",
       "    }\n",
       "\n",
       "    .dataframe thead th {\n",
       "        text-align: right;\n",
       "    }\n",
       "</style>\n",
       "<table border=\"1\" class=\"dataframe\">\n",
       "  <thead>\n",
       "    <tr style=\"text-align: right;\">\n",
       "      <th></th>\n",
       "      <th>Category</th>\n",
       "      <th>DayOfWeek</th>\n",
       "      <th>PdDistrict</th>\n",
       "      <th>Address</th>\n",
       "      <th>X</th>\n",
       "      <th>Y</th>\n",
       "      <th>year</th>\n",
       "      <th>month</th>\n",
       "      <th>hour</th>\n",
       "      <th>Friday</th>\n",
       "      <th>...</th>\n",
       "      <th>BAYVIEW</th>\n",
       "      <th>CENTRAL</th>\n",
       "      <th>INGLESIDE</th>\n",
       "      <th>MISSION</th>\n",
       "      <th>NORTHERN</th>\n",
       "      <th>PARK</th>\n",
       "      <th>RICHMOND</th>\n",
       "      <th>SOUTHERN</th>\n",
       "      <th>TARAVAL</th>\n",
       "      <th>TENDERLOIN</th>\n",
       "    </tr>\n",
       "  </thead>\n",
       "  <tbody>\n",
       "    <tr>\n",
       "      <td>0</td>\n",
       "      <td>WARRANTS</td>\n",
       "      <td>Wednesday</td>\n",
       "      <td>NORTHERN</td>\n",
       "      <td>OAK ST / LAGUNA ST</td>\n",
       "      <td>-122.425892</td>\n",
       "      <td>37.774599</td>\n",
       "      <td>2015</td>\n",
       "      <td>5</td>\n",
       "      <td>23</td>\n",
       "      <td>0</td>\n",
       "      <td>...</td>\n",
       "      <td>0</td>\n",
       "      <td>0</td>\n",
       "      <td>0</td>\n",
       "      <td>0</td>\n",
       "      <td>1</td>\n",
       "      <td>0</td>\n",
       "      <td>0</td>\n",
       "      <td>0</td>\n",
       "      <td>0</td>\n",
       "      <td>0</td>\n",
       "    </tr>\n",
       "    <tr>\n",
       "      <td>1</td>\n",
       "      <td>OTHER OFFENSES</td>\n",
       "      <td>Wednesday</td>\n",
       "      <td>NORTHERN</td>\n",
       "      <td>OAK ST / LAGUNA ST</td>\n",
       "      <td>-122.425892</td>\n",
       "      <td>37.774599</td>\n",
       "      <td>2015</td>\n",
       "      <td>5</td>\n",
       "      <td>23</td>\n",
       "      <td>0</td>\n",
       "      <td>...</td>\n",
       "      <td>0</td>\n",
       "      <td>0</td>\n",
       "      <td>0</td>\n",
       "      <td>0</td>\n",
       "      <td>1</td>\n",
       "      <td>0</td>\n",
       "      <td>0</td>\n",
       "      <td>0</td>\n",
       "      <td>0</td>\n",
       "      <td>0</td>\n",
       "    </tr>\n",
       "    <tr>\n",
       "      <td>2</td>\n",
       "      <td>OTHER OFFENSES</td>\n",
       "      <td>Wednesday</td>\n",
       "      <td>NORTHERN</td>\n",
       "      <td>VANNESS AV / GREENWICH ST</td>\n",
       "      <td>-122.424363</td>\n",
       "      <td>37.800414</td>\n",
       "      <td>2015</td>\n",
       "      <td>5</td>\n",
       "      <td>23</td>\n",
       "      <td>0</td>\n",
       "      <td>...</td>\n",
       "      <td>0</td>\n",
       "      <td>0</td>\n",
       "      <td>0</td>\n",
       "      <td>0</td>\n",
       "      <td>1</td>\n",
       "      <td>0</td>\n",
       "      <td>0</td>\n",
       "      <td>0</td>\n",
       "      <td>0</td>\n",
       "      <td>0</td>\n",
       "    </tr>\n",
       "    <tr>\n",
       "      <td>3</td>\n",
       "      <td>LARCENY/THEFT</td>\n",
       "      <td>Wednesday</td>\n",
       "      <td>NORTHERN</td>\n",
       "      <td>1500 Block of LOMBARD ST</td>\n",
       "      <td>-122.426995</td>\n",
       "      <td>37.800873</td>\n",
       "      <td>2015</td>\n",
       "      <td>5</td>\n",
       "      <td>23</td>\n",
       "      <td>0</td>\n",
       "      <td>...</td>\n",
       "      <td>0</td>\n",
       "      <td>0</td>\n",
       "      <td>0</td>\n",
       "      <td>0</td>\n",
       "      <td>1</td>\n",
       "      <td>0</td>\n",
       "      <td>0</td>\n",
       "      <td>0</td>\n",
       "      <td>0</td>\n",
       "      <td>0</td>\n",
       "    </tr>\n",
       "    <tr>\n",
       "      <td>4</td>\n",
       "      <td>LARCENY/THEFT</td>\n",
       "      <td>Wednesday</td>\n",
       "      <td>PARK</td>\n",
       "      <td>100 Block of BRODERICK ST</td>\n",
       "      <td>-122.438738</td>\n",
       "      <td>37.771541</td>\n",
       "      <td>2015</td>\n",
       "      <td>5</td>\n",
       "      <td>23</td>\n",
       "      <td>0</td>\n",
       "      <td>...</td>\n",
       "      <td>0</td>\n",
       "      <td>0</td>\n",
       "      <td>0</td>\n",
       "      <td>0</td>\n",
       "      <td>0</td>\n",
       "      <td>1</td>\n",
       "      <td>0</td>\n",
       "      <td>0</td>\n",
       "      <td>0</td>\n",
       "      <td>0</td>\n",
       "    </tr>\n",
       "  </tbody>\n",
       "</table>\n",
       "<p>5 rows × 26 columns</p>\n",
       "</div>"
      ],
      "text/plain": [
       "         Category  DayOfWeek PdDistrict                    Address  \\\n",
       "0        WARRANTS  Wednesday   NORTHERN         OAK ST / LAGUNA ST   \n",
       "1  OTHER OFFENSES  Wednesday   NORTHERN         OAK ST / LAGUNA ST   \n",
       "2  OTHER OFFENSES  Wednesday   NORTHERN  VANNESS AV / GREENWICH ST   \n",
       "3   LARCENY/THEFT  Wednesday   NORTHERN   1500 Block of LOMBARD ST   \n",
       "4   LARCENY/THEFT  Wednesday       PARK  100 Block of BRODERICK ST   \n",
       "\n",
       "            X          Y  year  month  hour  Friday  ...  BAYVIEW  CENTRAL  \\\n",
       "0 -122.425892  37.774599  2015      5    23       0  ...        0        0   \n",
       "1 -122.425892  37.774599  2015      5    23       0  ...        0        0   \n",
       "2 -122.424363  37.800414  2015      5    23       0  ...        0        0   \n",
       "3 -122.426995  37.800873  2015      5    23       0  ...        0        0   \n",
       "4 -122.438738  37.771541  2015      5    23       0  ...        0        0   \n",
       "\n",
       "   INGLESIDE  MISSION  NORTHERN  PARK  RICHMOND  SOUTHERN  TARAVAL  TENDERLOIN  \n",
       "0          0        0         1     0         0         0        0           0  \n",
       "1          0        0         1     0         0         0        0           0  \n",
       "2          0        0         1     0         0         0        0           0  \n",
       "3          0        0         1     0         0         0        0           0  \n",
       "4          0        0         0     1         0         0        0           0  \n",
       "\n",
       "[5 rows x 26 columns]"
      ]
     },
     "execution_count": 65,
     "metadata": {},
     "output_type": "execute_result"
    }
   ],
   "source": [
    "df.head()"
   ]
  },
  {
   "cell_type": "code",
   "execution_count": 66,
   "metadata": {},
   "outputs": [],
   "source": [
    "df.drop(columns=[\"DayOfWeek\",\"PdDistrict\"],inplace=True)"
   ]
  },
  {
   "cell_type": "code",
   "execution_count": 67,
   "metadata": {},
   "outputs": [
    {
     "data": {
      "text/plain": [
       "(878049, 24)"
      ]
     },
     "execution_count": 67,
     "metadata": {},
     "output_type": "execute_result"
    }
   ],
   "source": [
    "df.shape"
   ]
  },
  {
   "cell_type": "code",
   "execution_count": 68,
   "metadata": {},
   "outputs": [],
   "source": [
    "encode_category=LabelEncoder().fit(np.sort(df[\"Category\"]))\n",
    "df[\"Category\"]=encode_category.transform(df[\"Category\"])"
   ]
  },
  {
   "cell_type": "code",
   "execution_count": 69,
   "metadata": {},
   "outputs": [],
   "source": [
    "# PCA on co-ordinates\n",
    "pca_encode=PCA().fit(df[[\"X\",\"Y\"]])\n",
    "df[[\"X\",\"Y\"]]=pca_encode.transform(df[[\"X\",\"Y\"]])"
   ]
  },
  {
   "cell_type": "code",
   "execution_count": 70,
   "metadata": {},
   "outputs": [],
   "source": [
    "df.drop(columns=\"Address\",inplace=True)"
   ]
  },
  {
   "cell_type": "code",
   "execution_count": 71,
   "metadata": {},
   "outputs": [],
   "source": [
    "dff=df.copy()"
   ]
  },
  {
   "cell_type": "code",
   "execution_count": 72,
   "metadata": {},
   "outputs": [
    {
     "data": {
      "text/html": [
       "<div>\n",
       "<style scoped>\n",
       "    .dataframe tbody tr th:only-of-type {\n",
       "        vertical-align: middle;\n",
       "    }\n",
       "\n",
       "    .dataframe tbody tr th {\n",
       "        vertical-align: top;\n",
       "    }\n",
       "\n",
       "    .dataframe thead th {\n",
       "        text-align: right;\n",
       "    }\n",
       "</style>\n",
       "<table border=\"1\" class=\"dataframe\">\n",
       "  <thead>\n",
       "    <tr style=\"text-align: right;\">\n",
       "      <th></th>\n",
       "      <th>Category</th>\n",
       "      <th>X</th>\n",
       "      <th>Y</th>\n",
       "      <th>year</th>\n",
       "      <th>month</th>\n",
       "      <th>hour</th>\n",
       "      <th>Friday</th>\n",
       "      <th>Monday</th>\n",
       "      <th>Saturday</th>\n",
       "      <th>Sunday</th>\n",
       "      <th>...</th>\n",
       "      <th>BAYVIEW</th>\n",
       "      <th>CENTRAL</th>\n",
       "      <th>INGLESIDE</th>\n",
       "      <th>MISSION</th>\n",
       "      <th>NORTHERN</th>\n",
       "      <th>PARK</th>\n",
       "      <th>RICHMOND</th>\n",
       "      <th>SOUTHERN</th>\n",
       "      <th>TARAVAL</th>\n",
       "      <th>TENDERLOIN</th>\n",
       "    </tr>\n",
       "  </thead>\n",
       "  <tbody>\n",
       "    <tr>\n",
       "      <td>0</td>\n",
       "      <td>37</td>\n",
       "      <td>0.003454</td>\n",
       "      <td>0.003406</td>\n",
       "      <td>2015</td>\n",
       "      <td>5</td>\n",
       "      <td>23</td>\n",
       "      <td>0</td>\n",
       "      <td>0</td>\n",
       "      <td>0</td>\n",
       "      <td>0</td>\n",
       "      <td>...</td>\n",
       "      <td>0</td>\n",
       "      <td>0</td>\n",
       "      <td>0</td>\n",
       "      <td>0</td>\n",
       "      <td>1</td>\n",
       "      <td>0</td>\n",
       "      <td>0</td>\n",
       "      <td>0</td>\n",
       "      <td>0</td>\n",
       "      <td>0</td>\n",
       "    </tr>\n",
       "    <tr>\n",
       "      <td>1</td>\n",
       "      <td>21</td>\n",
       "      <td>0.003454</td>\n",
       "      <td>0.003406</td>\n",
       "      <td>2015</td>\n",
       "      <td>5</td>\n",
       "      <td>23</td>\n",
       "      <td>0</td>\n",
       "      <td>0</td>\n",
       "      <td>0</td>\n",
       "      <td>0</td>\n",
       "      <td>...</td>\n",
       "      <td>0</td>\n",
       "      <td>0</td>\n",
       "      <td>0</td>\n",
       "      <td>0</td>\n",
       "      <td>1</td>\n",
       "      <td>0</td>\n",
       "      <td>0</td>\n",
       "      <td>0</td>\n",
       "      <td>0</td>\n",
       "      <td>0</td>\n",
       "    </tr>\n",
       "    <tr>\n",
       "      <td>2</td>\n",
       "      <td>21</td>\n",
       "      <td>0.029309</td>\n",
       "      <td>0.002840</td>\n",
       "      <td>2015</td>\n",
       "      <td>5</td>\n",
       "      <td>23</td>\n",
       "      <td>0</td>\n",
       "      <td>0</td>\n",
       "      <td>0</td>\n",
       "      <td>0</td>\n",
       "      <td>...</td>\n",
       "      <td>0</td>\n",
       "      <td>0</td>\n",
       "      <td>0</td>\n",
       "      <td>0</td>\n",
       "      <td>1</td>\n",
       "      <td>0</td>\n",
       "      <td>0</td>\n",
       "      <td>0</td>\n",
       "      <td>0</td>\n",
       "      <td>0</td>\n",
       "    </tr>\n",
       "    <tr>\n",
       "      <td>3</td>\n",
       "      <td>16</td>\n",
       "      <td>0.029669</td>\n",
       "      <td>0.005488</td>\n",
       "      <td>2015</td>\n",
       "      <td>5</td>\n",
       "      <td>23</td>\n",
       "      <td>0</td>\n",
       "      <td>0</td>\n",
       "      <td>0</td>\n",
       "      <td>0</td>\n",
       "      <td>...</td>\n",
       "      <td>0</td>\n",
       "      <td>0</td>\n",
       "      <td>0</td>\n",
       "      <td>0</td>\n",
       "      <td>1</td>\n",
       "      <td>0</td>\n",
       "      <td>0</td>\n",
       "      <td>0</td>\n",
       "      <td>0</td>\n",
       "      <td>0</td>\n",
       "    </tr>\n",
       "    <tr>\n",
       "      <td>4</td>\n",
       "      <td>16</td>\n",
       "      <td>-0.000080</td>\n",
       "      <td>0.016129</td>\n",
       "      <td>2015</td>\n",
       "      <td>5</td>\n",
       "      <td>23</td>\n",
       "      <td>0</td>\n",
       "      <td>0</td>\n",
       "      <td>0</td>\n",
       "      <td>0</td>\n",
       "      <td>...</td>\n",
       "      <td>0</td>\n",
       "      <td>0</td>\n",
       "      <td>0</td>\n",
       "      <td>0</td>\n",
       "      <td>0</td>\n",
       "      <td>1</td>\n",
       "      <td>0</td>\n",
       "      <td>0</td>\n",
       "      <td>0</td>\n",
       "      <td>0</td>\n",
       "    </tr>\n",
       "  </tbody>\n",
       "</table>\n",
       "<p>5 rows × 23 columns</p>\n",
       "</div>"
      ],
      "text/plain": [
       "   Category         X         Y  year  month  hour  Friday  Monday  Saturday  \\\n",
       "0        37  0.003454  0.003406  2015      5    23       0       0         0   \n",
       "1        21  0.003454  0.003406  2015      5    23       0       0         0   \n",
       "2        21  0.029309  0.002840  2015      5    23       0       0         0   \n",
       "3        16  0.029669  0.005488  2015      5    23       0       0         0   \n",
       "4        16 -0.000080  0.016129  2015      5    23       0       0         0   \n",
       "\n",
       "   Sunday  ...  BAYVIEW  CENTRAL  INGLESIDE  MISSION  NORTHERN  PARK  \\\n",
       "0       0  ...        0        0          0        0         1     0   \n",
       "1       0  ...        0        0          0        0         1     0   \n",
       "2       0  ...        0        0          0        0         1     0   \n",
       "3       0  ...        0        0          0        0         1     0   \n",
       "4       0  ...        0        0          0        0         0     1   \n",
       "\n",
       "   RICHMOND  SOUTHERN  TARAVAL  TENDERLOIN  \n",
       "0         0         0        0           0  \n",
       "1         0         0        0           0  \n",
       "2         0         0        0           0  \n",
       "3         0         0        0           0  \n",
       "4         0         0        0           0  \n",
       "\n",
       "[5 rows x 23 columns]"
      ]
     },
     "execution_count": 72,
     "metadata": {},
     "output_type": "execute_result"
    }
   ],
   "source": [
    "dff.head()"
   ]
  },
  {
   "cell_type": "code",
   "execution_count": 73,
   "metadata": {},
   "outputs": [
    {
     "data": {
      "text/html": [
       "<div>\n",
       "<style scoped>\n",
       "    .dataframe tbody tr th:only-of-type {\n",
       "        vertical-align: middle;\n",
       "    }\n",
       "\n",
       "    .dataframe tbody tr th {\n",
       "        vertical-align: top;\n",
       "    }\n",
       "\n",
       "    .dataframe thead th {\n",
       "        text-align: right;\n",
       "    }\n",
       "</style>\n",
       "<table border=\"1\" class=\"dataframe\">\n",
       "  <thead>\n",
       "    <tr style=\"text-align: right;\">\n",
       "      <th></th>\n",
       "      <th>Category</th>\n",
       "      <th>X</th>\n",
       "      <th>Y</th>\n",
       "      <th>year</th>\n",
       "      <th>month</th>\n",
       "      <th>hour</th>\n",
       "      <th>Friday</th>\n",
       "      <th>Monday</th>\n",
       "      <th>Saturday</th>\n",
       "      <th>Sunday</th>\n",
       "      <th>...</th>\n",
       "      <th>BAYVIEW</th>\n",
       "      <th>CENTRAL</th>\n",
       "      <th>INGLESIDE</th>\n",
       "      <th>MISSION</th>\n",
       "      <th>NORTHERN</th>\n",
       "      <th>PARK</th>\n",
       "      <th>RICHMOND</th>\n",
       "      <th>SOUTHERN</th>\n",
       "      <th>TARAVAL</th>\n",
       "      <th>TENDERLOIN</th>\n",
       "    </tr>\n",
       "  </thead>\n",
       "  <tbody>\n",
       "    <tr>\n",
       "      <td>0</td>\n",
       "      <td>37</td>\n",
       "      <td>0.003454</td>\n",
       "      <td>0.003406</td>\n",
       "      <td>2015</td>\n",
       "      <td>5</td>\n",
       "      <td>23</td>\n",
       "      <td>0</td>\n",
       "      <td>0</td>\n",
       "      <td>0</td>\n",
       "      <td>0</td>\n",
       "      <td>...</td>\n",
       "      <td>0</td>\n",
       "      <td>0</td>\n",
       "      <td>0</td>\n",
       "      <td>0</td>\n",
       "      <td>1</td>\n",
       "      <td>0</td>\n",
       "      <td>0</td>\n",
       "      <td>0</td>\n",
       "      <td>0</td>\n",
       "      <td>0</td>\n",
       "    </tr>\n",
       "    <tr>\n",
       "      <td>1</td>\n",
       "      <td>21</td>\n",
       "      <td>0.003454</td>\n",
       "      <td>0.003406</td>\n",
       "      <td>2015</td>\n",
       "      <td>5</td>\n",
       "      <td>23</td>\n",
       "      <td>0</td>\n",
       "      <td>0</td>\n",
       "      <td>0</td>\n",
       "      <td>0</td>\n",
       "      <td>...</td>\n",
       "      <td>0</td>\n",
       "      <td>0</td>\n",
       "      <td>0</td>\n",
       "      <td>0</td>\n",
       "      <td>1</td>\n",
       "      <td>0</td>\n",
       "      <td>0</td>\n",
       "      <td>0</td>\n",
       "      <td>0</td>\n",
       "      <td>0</td>\n",
       "    </tr>\n",
       "    <tr>\n",
       "      <td>2</td>\n",
       "      <td>21</td>\n",
       "      <td>0.029309</td>\n",
       "      <td>0.002840</td>\n",
       "      <td>2015</td>\n",
       "      <td>5</td>\n",
       "      <td>23</td>\n",
       "      <td>0</td>\n",
       "      <td>0</td>\n",
       "      <td>0</td>\n",
       "      <td>0</td>\n",
       "      <td>...</td>\n",
       "      <td>0</td>\n",
       "      <td>0</td>\n",
       "      <td>0</td>\n",
       "      <td>0</td>\n",
       "      <td>1</td>\n",
       "      <td>0</td>\n",
       "      <td>0</td>\n",
       "      <td>0</td>\n",
       "      <td>0</td>\n",
       "      <td>0</td>\n",
       "    </tr>\n",
       "    <tr>\n",
       "      <td>3</td>\n",
       "      <td>16</td>\n",
       "      <td>0.029669</td>\n",
       "      <td>0.005488</td>\n",
       "      <td>2015</td>\n",
       "      <td>5</td>\n",
       "      <td>23</td>\n",
       "      <td>0</td>\n",
       "      <td>0</td>\n",
       "      <td>0</td>\n",
       "      <td>0</td>\n",
       "      <td>...</td>\n",
       "      <td>0</td>\n",
       "      <td>0</td>\n",
       "      <td>0</td>\n",
       "      <td>0</td>\n",
       "      <td>1</td>\n",
       "      <td>0</td>\n",
       "      <td>0</td>\n",
       "      <td>0</td>\n",
       "      <td>0</td>\n",
       "      <td>0</td>\n",
       "    </tr>\n",
       "    <tr>\n",
       "      <td>4</td>\n",
       "      <td>16</td>\n",
       "      <td>-0.000080</td>\n",
       "      <td>0.016129</td>\n",
       "      <td>2015</td>\n",
       "      <td>5</td>\n",
       "      <td>23</td>\n",
       "      <td>0</td>\n",
       "      <td>0</td>\n",
       "      <td>0</td>\n",
       "      <td>0</td>\n",
       "      <td>...</td>\n",
       "      <td>0</td>\n",
       "      <td>0</td>\n",
       "      <td>0</td>\n",
       "      <td>0</td>\n",
       "      <td>0</td>\n",
       "      <td>1</td>\n",
       "      <td>0</td>\n",
       "      <td>0</td>\n",
       "      <td>0</td>\n",
       "      <td>0</td>\n",
       "    </tr>\n",
       "  </tbody>\n",
       "</table>\n",
       "<p>5 rows × 23 columns</p>\n",
       "</div>"
      ],
      "text/plain": [
       "   Category         X         Y  year  month  hour  Friday  Monday  Saturday  \\\n",
       "0        37  0.003454  0.003406  2015      5    23       0       0         0   \n",
       "1        21  0.003454  0.003406  2015      5    23       0       0         0   \n",
       "2        21  0.029309  0.002840  2015      5    23       0       0         0   \n",
       "3        16  0.029669  0.005488  2015      5    23       0       0         0   \n",
       "4        16 -0.000080  0.016129  2015      5    23       0       0         0   \n",
       "\n",
       "   Sunday  ...  BAYVIEW  CENTRAL  INGLESIDE  MISSION  NORTHERN  PARK  \\\n",
       "0       0  ...        0        0          0        0         1     0   \n",
       "1       0  ...        0        0          0        0         1     0   \n",
       "2       0  ...        0        0          0        0         1     0   \n",
       "3       0  ...        0        0          0        0         1     0   \n",
       "4       0  ...        0        0          0        0         0     1   \n",
       "\n",
       "   RICHMOND  SOUTHERN  TARAVAL  TENDERLOIN  \n",
       "0         0         0        0           0  \n",
       "1         0         0        0           0  \n",
       "2         0         0        0           0  \n",
       "3         0         0        0           0  \n",
       "4         0         0        0           0  \n",
       "\n",
       "[5 rows x 23 columns]"
      ]
     },
     "execution_count": 73,
     "metadata": {},
     "output_type": "execute_result"
    }
   ],
   "source": [
    "df.head()"
   ]
  },
  {
   "cell_type": "code",
   "execution_count": 74,
   "metadata": {},
   "outputs": [],
   "source": [
    "x_train,x_test,y_train,y_test=train_test_split(df.drop(columns=\"Category\"),df[\"Category\"])"
   ]
  },
  {
   "cell_type": "code",
   "execution_count": 33,
   "metadata": {},
   "outputs": [],
   "source": [
    "r1=xgb.XGBClassifier(n_estimators=1000,learning_rate=0.25,max_depth=4,gamma=0,colsample_bytree=1,colsample_bylevel=1,subsample=0.5,objective=\"multi:softmax\")"
   ]
  },
  {
   "cell_type": "code",
   "execution_count": 34,
   "metadata": {},
   "outputs": [
    {
     "name": "stdout",
     "output_type": "stream",
     "text": [
      "[0]\tvalidation_0-mlogloss:3.23651\tvalidation_1-mlogloss:3.23627\n",
      "Multiple eval metrics have been passed: 'validation_1-mlogloss' will be used for early stopping.\n",
      "\n",
      "Will train until validation_1-mlogloss hasn't improved in 5 rounds.\n",
      "[1]\tvalidation_0-mlogloss:3.0576\tvalidation_1-mlogloss:3.05734\n",
      "[2]\tvalidation_0-mlogloss:2.93764\tvalidation_1-mlogloss:2.93746\n",
      "[3]\tvalidation_0-mlogloss:2.84927\tvalidation_1-mlogloss:2.84905\n",
      "[4]\tvalidation_0-mlogloss:2.78219\tvalidation_1-mlogloss:2.78243\n",
      "[5]\tvalidation_0-mlogloss:2.72928\tvalidation_1-mlogloss:2.72969\n",
      "[6]\tvalidation_0-mlogloss:2.68537\tvalidation_1-mlogloss:2.68604\n",
      "[7]\tvalidation_0-mlogloss:2.65086\tvalidation_1-mlogloss:2.65175\n",
      "[8]\tvalidation_0-mlogloss:2.62179\tvalidation_1-mlogloss:2.62261\n",
      "[9]\tvalidation_0-mlogloss:2.59707\tvalidation_1-mlogloss:2.59815\n",
      "[10]\tvalidation_0-mlogloss:2.57709\tvalidation_1-mlogloss:2.57862\n",
      "[11]\tvalidation_0-mlogloss:2.55972\tvalidation_1-mlogloss:2.56151\n",
      "[12]\tvalidation_0-mlogloss:2.54449\tvalidation_1-mlogloss:2.54642\n",
      "[13]\tvalidation_0-mlogloss:2.53141\tvalidation_1-mlogloss:2.53349\n",
      "[14]\tvalidation_0-mlogloss:2.52015\tvalidation_1-mlogloss:2.52241\n",
      "[15]\tvalidation_0-mlogloss:2.51059\tvalidation_1-mlogloss:2.51312\n",
      "[16]\tvalidation_0-mlogloss:2.50207\tvalidation_1-mlogloss:2.50503\n",
      "[17]\tvalidation_0-mlogloss:2.49517\tvalidation_1-mlogloss:2.4984\n",
      "[18]\tvalidation_0-mlogloss:2.48899\tvalidation_1-mlogloss:2.49257\n",
      "[19]\tvalidation_0-mlogloss:2.48271\tvalidation_1-mlogloss:2.48663\n",
      "[20]\tvalidation_0-mlogloss:2.47734\tvalidation_1-mlogloss:2.4816\n",
      "[21]\tvalidation_0-mlogloss:2.47266\tvalidation_1-mlogloss:2.47727\n",
      "[22]\tvalidation_0-mlogloss:2.46847\tvalidation_1-mlogloss:2.47355\n",
      "[23]\tvalidation_0-mlogloss:2.46493\tvalidation_1-mlogloss:2.4702\n",
      "[24]\tvalidation_0-mlogloss:2.46099\tvalidation_1-mlogloss:2.46675\n",
      "[25]\tvalidation_0-mlogloss:2.4575\tvalidation_1-mlogloss:2.46358\n",
      "[26]\tvalidation_0-mlogloss:2.45431\tvalidation_1-mlogloss:2.46072\n",
      "[27]\tvalidation_0-mlogloss:2.45138\tvalidation_1-mlogloss:2.45808\n",
      "[28]\tvalidation_0-mlogloss:2.44868\tvalidation_1-mlogloss:2.45582\n",
      "[29]\tvalidation_0-mlogloss:2.44645\tvalidation_1-mlogloss:2.45411\n",
      "[30]\tvalidation_0-mlogloss:2.44422\tvalidation_1-mlogloss:2.45227\n",
      "[31]\tvalidation_0-mlogloss:2.44225\tvalidation_1-mlogloss:2.45059\n",
      "[32]\tvalidation_0-mlogloss:2.4402\tvalidation_1-mlogloss:2.44895\n",
      "[33]\tvalidation_0-mlogloss:2.43826\tvalidation_1-mlogloss:2.44749\n",
      "[34]\tvalidation_0-mlogloss:2.43626\tvalidation_1-mlogloss:2.44596\n",
      "[35]\tvalidation_0-mlogloss:2.4346\tvalidation_1-mlogloss:2.44468\n",
      "[36]\tvalidation_0-mlogloss:2.43311\tvalidation_1-mlogloss:2.44364\n",
      "[37]\tvalidation_0-mlogloss:2.43133\tvalidation_1-mlogloss:2.4423\n",
      "[38]\tvalidation_0-mlogloss:2.4298\tvalidation_1-mlogloss:2.44109\n",
      "[39]\tvalidation_0-mlogloss:2.4283\tvalidation_1-mlogloss:2.44001\n",
      "[40]\tvalidation_0-mlogloss:2.42687\tvalidation_1-mlogloss:2.43904\n",
      "[41]\tvalidation_0-mlogloss:2.42529\tvalidation_1-mlogloss:2.43774\n",
      "[42]\tvalidation_0-mlogloss:2.42407\tvalidation_1-mlogloss:2.4369\n",
      "[43]\tvalidation_0-mlogloss:2.42272\tvalidation_1-mlogloss:2.43607\n",
      "[44]\tvalidation_0-mlogloss:2.42146\tvalidation_1-mlogloss:2.43517\n",
      "[45]\tvalidation_0-mlogloss:2.42017\tvalidation_1-mlogloss:2.43433\n",
      "[46]\tvalidation_0-mlogloss:2.41908\tvalidation_1-mlogloss:2.43369\n",
      "[47]\tvalidation_0-mlogloss:2.41782\tvalidation_1-mlogloss:2.43276\n",
      "[48]\tvalidation_0-mlogloss:2.41657\tvalidation_1-mlogloss:2.43198\n",
      "[49]\tvalidation_0-mlogloss:2.41534\tvalidation_1-mlogloss:2.43117\n",
      "[50]\tvalidation_0-mlogloss:2.41437\tvalidation_1-mlogloss:2.43065\n",
      "[51]\tvalidation_0-mlogloss:2.41327\tvalidation_1-mlogloss:2.42996\n",
      "[52]\tvalidation_0-mlogloss:2.41204\tvalidation_1-mlogloss:2.42906\n",
      "[53]\tvalidation_0-mlogloss:2.411\tvalidation_1-mlogloss:2.42847\n",
      "[54]\tvalidation_0-mlogloss:2.40998\tvalidation_1-mlogloss:2.42781\n",
      "[55]\tvalidation_0-mlogloss:2.40904\tvalidation_1-mlogloss:2.42732\n",
      "[56]\tvalidation_0-mlogloss:2.40809\tvalidation_1-mlogloss:2.42667\n",
      "[57]\tvalidation_0-mlogloss:2.40715\tvalidation_1-mlogloss:2.42621\n",
      "[58]\tvalidation_0-mlogloss:2.40631\tvalidation_1-mlogloss:2.42581\n",
      "[59]\tvalidation_0-mlogloss:2.40532\tvalidation_1-mlogloss:2.42514\n",
      "[60]\tvalidation_0-mlogloss:2.40435\tvalidation_1-mlogloss:2.42458\n",
      "[61]\tvalidation_0-mlogloss:2.4034\tvalidation_1-mlogloss:2.42405\n",
      "[62]\tvalidation_0-mlogloss:2.40239\tvalidation_1-mlogloss:2.42348\n",
      "[63]\tvalidation_0-mlogloss:2.40159\tvalidation_1-mlogloss:2.42308\n",
      "[64]\tvalidation_0-mlogloss:2.40061\tvalidation_1-mlogloss:2.42253\n",
      "[65]\tvalidation_0-mlogloss:2.39967\tvalidation_1-mlogloss:2.422\n",
      "[66]\tvalidation_0-mlogloss:2.39882\tvalidation_1-mlogloss:2.42159\n",
      "[67]\tvalidation_0-mlogloss:2.39776\tvalidation_1-mlogloss:2.42083\n",
      "[68]\tvalidation_0-mlogloss:2.39677\tvalidation_1-mlogloss:2.4202\n",
      "[69]\tvalidation_0-mlogloss:2.39585\tvalidation_1-mlogloss:2.41967\n",
      "[70]\tvalidation_0-mlogloss:2.39494\tvalidation_1-mlogloss:2.41916\n",
      "[71]\tvalidation_0-mlogloss:2.39403\tvalidation_1-mlogloss:2.41859\n",
      "[72]\tvalidation_0-mlogloss:2.3932\tvalidation_1-mlogloss:2.41816\n",
      "[73]\tvalidation_0-mlogloss:2.39229\tvalidation_1-mlogloss:2.41769\n",
      "[74]\tvalidation_0-mlogloss:2.39143\tvalidation_1-mlogloss:2.41719\n",
      "[75]\tvalidation_0-mlogloss:2.39058\tvalidation_1-mlogloss:2.41665\n",
      "[76]\tvalidation_0-mlogloss:2.38951\tvalidation_1-mlogloss:2.41592\n",
      "[77]\tvalidation_0-mlogloss:2.38874\tvalidation_1-mlogloss:2.41555\n",
      "[78]\tvalidation_0-mlogloss:2.38793\tvalidation_1-mlogloss:2.41514\n",
      "[79]\tvalidation_0-mlogloss:2.38717\tvalidation_1-mlogloss:2.41466\n",
      "[80]\tvalidation_0-mlogloss:2.38646\tvalidation_1-mlogloss:2.41433\n",
      "[81]\tvalidation_0-mlogloss:2.38572\tvalidation_1-mlogloss:2.41399\n",
      "[82]\tvalidation_0-mlogloss:2.38494\tvalidation_1-mlogloss:2.41356\n",
      "[83]\tvalidation_0-mlogloss:2.38414\tvalidation_1-mlogloss:2.41311\n",
      "[84]\tvalidation_0-mlogloss:2.38348\tvalidation_1-mlogloss:2.41278\n",
      "[85]\tvalidation_0-mlogloss:2.3828\tvalidation_1-mlogloss:2.41253\n",
      "[86]\tvalidation_0-mlogloss:2.3821\tvalidation_1-mlogloss:2.41211\n",
      "[87]\tvalidation_0-mlogloss:2.38143\tvalidation_1-mlogloss:2.41178\n",
      "[88]\tvalidation_0-mlogloss:2.38074\tvalidation_1-mlogloss:2.41146\n",
      "[89]\tvalidation_0-mlogloss:2.37995\tvalidation_1-mlogloss:2.4111\n",
      "[90]\tvalidation_0-mlogloss:2.37935\tvalidation_1-mlogloss:2.41085\n",
      "[91]\tvalidation_0-mlogloss:2.37876\tvalidation_1-mlogloss:2.41061\n",
      "[92]\tvalidation_0-mlogloss:2.37806\tvalidation_1-mlogloss:2.41019\n",
      "[93]\tvalidation_0-mlogloss:2.37738\tvalidation_1-mlogloss:2.40992\n",
      "[94]\tvalidation_0-mlogloss:2.37661\tvalidation_1-mlogloss:2.40945\n",
      "[95]\tvalidation_0-mlogloss:2.37579\tvalidation_1-mlogloss:2.409\n",
      "[96]\tvalidation_0-mlogloss:2.3751\tvalidation_1-mlogloss:2.40866\n",
      "[97]\tvalidation_0-mlogloss:2.37439\tvalidation_1-mlogloss:2.40831\n",
      "[98]\tvalidation_0-mlogloss:2.37376\tvalidation_1-mlogloss:2.40805\n",
      "[99]\tvalidation_0-mlogloss:2.37299\tvalidation_1-mlogloss:2.40769\n",
      "[100]\tvalidation_0-mlogloss:2.37237\tvalidation_1-mlogloss:2.40734\n",
      "[101]\tvalidation_0-mlogloss:2.37186\tvalidation_1-mlogloss:2.40717\n",
      "[102]\tvalidation_0-mlogloss:2.37125\tvalidation_1-mlogloss:2.40691\n",
      "[103]\tvalidation_0-mlogloss:2.37065\tvalidation_1-mlogloss:2.40672\n",
      "[104]\tvalidation_0-mlogloss:2.37008\tvalidation_1-mlogloss:2.40644\n",
      "[105]\tvalidation_0-mlogloss:2.36943\tvalidation_1-mlogloss:2.40621\n",
      "[106]\tvalidation_0-mlogloss:2.36877\tvalidation_1-mlogloss:2.40592\n",
      "[107]\tvalidation_0-mlogloss:2.36819\tvalidation_1-mlogloss:2.40566\n",
      "[108]\tvalidation_0-mlogloss:2.36753\tvalidation_1-mlogloss:2.40539\n",
      "[109]\tvalidation_0-mlogloss:2.36688\tvalidation_1-mlogloss:2.40506\n",
      "[110]\tvalidation_0-mlogloss:2.36622\tvalidation_1-mlogloss:2.40475\n",
      "[111]\tvalidation_0-mlogloss:2.36568\tvalidation_1-mlogloss:2.40447\n",
      "[112]\tvalidation_0-mlogloss:2.36507\tvalidation_1-mlogloss:2.40414\n",
      "[113]\tvalidation_0-mlogloss:2.36444\tvalidation_1-mlogloss:2.40388\n",
      "[114]\tvalidation_0-mlogloss:2.36378\tvalidation_1-mlogloss:2.40364\n",
      "[115]\tvalidation_0-mlogloss:2.36317\tvalidation_1-mlogloss:2.40342\n",
      "[116]\tvalidation_0-mlogloss:2.36255\tvalidation_1-mlogloss:2.40314\n",
      "[117]\tvalidation_0-mlogloss:2.36207\tvalidation_1-mlogloss:2.40295\n",
      "[118]\tvalidation_0-mlogloss:2.36146\tvalidation_1-mlogloss:2.40266\n",
      "[119]\tvalidation_0-mlogloss:2.3609\tvalidation_1-mlogloss:2.40244\n",
      "[120]\tvalidation_0-mlogloss:2.36032\tvalidation_1-mlogloss:2.4022\n",
      "[121]\tvalidation_0-mlogloss:2.3598\tvalidation_1-mlogloss:2.40199\n",
      "[122]\tvalidation_0-mlogloss:2.35908\tvalidation_1-mlogloss:2.40162\n",
      "[123]\tvalidation_0-mlogloss:2.35849\tvalidation_1-mlogloss:2.40133\n"
     ]
    },
    {
     "name": "stdout",
     "output_type": "stream",
     "text": [
      "[124]\tvalidation_0-mlogloss:2.35786\tvalidation_1-mlogloss:2.40099\n",
      "[125]\tvalidation_0-mlogloss:2.35728\tvalidation_1-mlogloss:2.40077\n",
      "[126]\tvalidation_0-mlogloss:2.35675\tvalidation_1-mlogloss:2.40052\n",
      "[127]\tvalidation_0-mlogloss:2.35621\tvalidation_1-mlogloss:2.40024\n",
      "[128]\tvalidation_0-mlogloss:2.35561\tvalidation_1-mlogloss:2.39994\n",
      "[129]\tvalidation_0-mlogloss:2.35509\tvalidation_1-mlogloss:2.39971\n",
      "[130]\tvalidation_0-mlogloss:2.35453\tvalidation_1-mlogloss:2.39958\n",
      "[131]\tvalidation_0-mlogloss:2.354\tvalidation_1-mlogloss:2.39937\n",
      "[132]\tvalidation_0-mlogloss:2.35356\tvalidation_1-mlogloss:2.39927\n",
      "[133]\tvalidation_0-mlogloss:2.35306\tvalidation_1-mlogloss:2.39905\n",
      "[134]\tvalidation_0-mlogloss:2.35239\tvalidation_1-mlogloss:2.39867\n",
      "[135]\tvalidation_0-mlogloss:2.35189\tvalidation_1-mlogloss:2.39854\n",
      "[136]\tvalidation_0-mlogloss:2.35137\tvalidation_1-mlogloss:2.39838\n",
      "[137]\tvalidation_0-mlogloss:2.35095\tvalidation_1-mlogloss:2.39817\n",
      "[138]\tvalidation_0-mlogloss:2.35038\tvalidation_1-mlogloss:2.39791\n",
      "[139]\tvalidation_0-mlogloss:2.34986\tvalidation_1-mlogloss:2.39774\n",
      "[140]\tvalidation_0-mlogloss:2.34932\tvalidation_1-mlogloss:2.39749\n",
      "[141]\tvalidation_0-mlogloss:2.34874\tvalidation_1-mlogloss:2.39723\n",
      "[142]\tvalidation_0-mlogloss:2.34829\tvalidation_1-mlogloss:2.39709\n",
      "[143]\tvalidation_0-mlogloss:2.34778\tvalidation_1-mlogloss:2.39694\n",
      "[144]\tvalidation_0-mlogloss:2.34728\tvalidation_1-mlogloss:2.39671\n",
      "[145]\tvalidation_0-mlogloss:2.34673\tvalidation_1-mlogloss:2.39649\n",
      "[146]\tvalidation_0-mlogloss:2.34623\tvalidation_1-mlogloss:2.3963\n",
      "[147]\tvalidation_0-mlogloss:2.34574\tvalidation_1-mlogloss:2.39614\n",
      "[148]\tvalidation_0-mlogloss:2.34524\tvalidation_1-mlogloss:2.39596\n",
      "[149]\tvalidation_0-mlogloss:2.34461\tvalidation_1-mlogloss:2.39569\n",
      "[150]\tvalidation_0-mlogloss:2.34417\tvalidation_1-mlogloss:2.39553\n",
      "[151]\tvalidation_0-mlogloss:2.34358\tvalidation_1-mlogloss:2.39529\n",
      "[152]\tvalidation_0-mlogloss:2.34307\tvalidation_1-mlogloss:2.39504\n",
      "[153]\tvalidation_0-mlogloss:2.34263\tvalidation_1-mlogloss:2.39495\n",
      "[154]\tvalidation_0-mlogloss:2.34215\tvalidation_1-mlogloss:2.39477\n",
      "[155]\tvalidation_0-mlogloss:2.34167\tvalidation_1-mlogloss:2.39458\n",
      "[156]\tvalidation_0-mlogloss:2.34122\tvalidation_1-mlogloss:2.39443\n",
      "[157]\tvalidation_0-mlogloss:2.34072\tvalidation_1-mlogloss:2.3942\n",
      "[158]\tvalidation_0-mlogloss:2.3403\tvalidation_1-mlogloss:2.39416\n",
      "[159]\tvalidation_0-mlogloss:2.33984\tvalidation_1-mlogloss:2.39396\n",
      "[160]\tvalidation_0-mlogloss:2.33931\tvalidation_1-mlogloss:2.39373\n",
      "[161]\tvalidation_0-mlogloss:2.33878\tvalidation_1-mlogloss:2.3935\n",
      "[162]\tvalidation_0-mlogloss:2.33838\tvalidation_1-mlogloss:2.39333\n",
      "[163]\tvalidation_0-mlogloss:2.33789\tvalidation_1-mlogloss:2.39318\n",
      "[164]\tvalidation_0-mlogloss:2.33749\tvalidation_1-mlogloss:2.39309\n",
      "[165]\tvalidation_0-mlogloss:2.337\tvalidation_1-mlogloss:2.39283\n",
      "[166]\tvalidation_0-mlogloss:2.33653\tvalidation_1-mlogloss:2.39273\n",
      "[167]\tvalidation_0-mlogloss:2.33606\tvalidation_1-mlogloss:2.39261\n",
      "[168]\tvalidation_0-mlogloss:2.33555\tvalidation_1-mlogloss:2.39246\n",
      "[169]\tvalidation_0-mlogloss:2.33507\tvalidation_1-mlogloss:2.39229\n",
      "[170]\tvalidation_0-mlogloss:2.33464\tvalidation_1-mlogloss:2.39213\n",
      "[171]\tvalidation_0-mlogloss:2.33409\tvalidation_1-mlogloss:2.392\n",
      "[172]\tvalidation_0-mlogloss:2.33365\tvalidation_1-mlogloss:2.39183\n",
      "[173]\tvalidation_0-mlogloss:2.3332\tvalidation_1-mlogloss:2.39172\n",
      "[174]\tvalidation_0-mlogloss:2.33275\tvalidation_1-mlogloss:2.39157\n",
      "[175]\tvalidation_0-mlogloss:2.33237\tvalidation_1-mlogloss:2.39142\n",
      "[176]\tvalidation_0-mlogloss:2.33198\tvalidation_1-mlogloss:2.39134\n",
      "[177]\tvalidation_0-mlogloss:2.33157\tvalidation_1-mlogloss:2.3912\n",
      "[178]\tvalidation_0-mlogloss:2.33113\tvalidation_1-mlogloss:2.39108\n",
      "[179]\tvalidation_0-mlogloss:2.33066\tvalidation_1-mlogloss:2.39087\n",
      "[180]\tvalidation_0-mlogloss:2.33021\tvalidation_1-mlogloss:2.3907\n",
      "[181]\tvalidation_0-mlogloss:2.32981\tvalidation_1-mlogloss:2.39057\n",
      "[182]\tvalidation_0-mlogloss:2.32935\tvalidation_1-mlogloss:2.39038\n",
      "[183]\tvalidation_0-mlogloss:2.32888\tvalidation_1-mlogloss:2.39019\n",
      "[184]\tvalidation_0-mlogloss:2.32838\tvalidation_1-mlogloss:2.39006\n",
      "[185]\tvalidation_0-mlogloss:2.32795\tvalidation_1-mlogloss:2.38995\n",
      "[186]\tvalidation_0-mlogloss:2.32752\tvalidation_1-mlogloss:2.38983\n",
      "[187]\tvalidation_0-mlogloss:2.32712\tvalidation_1-mlogloss:2.38969\n",
      "[188]\tvalidation_0-mlogloss:2.32661\tvalidation_1-mlogloss:2.38942\n",
      "[189]\tvalidation_0-mlogloss:2.32622\tvalidation_1-mlogloss:2.38933\n",
      "[190]\tvalidation_0-mlogloss:2.32574\tvalidation_1-mlogloss:2.38921\n",
      "[191]\tvalidation_0-mlogloss:2.32531\tvalidation_1-mlogloss:2.38914\n",
      "[192]\tvalidation_0-mlogloss:2.3249\tvalidation_1-mlogloss:2.38903\n",
      "[193]\tvalidation_0-mlogloss:2.32452\tvalidation_1-mlogloss:2.38894\n",
      "[194]\tvalidation_0-mlogloss:2.3241\tvalidation_1-mlogloss:2.38877\n",
      "[195]\tvalidation_0-mlogloss:2.32362\tvalidation_1-mlogloss:2.38861\n",
      "[196]\tvalidation_0-mlogloss:2.32326\tvalidation_1-mlogloss:2.3885\n",
      "[197]\tvalidation_0-mlogloss:2.32285\tvalidation_1-mlogloss:2.3884\n",
      "[198]\tvalidation_0-mlogloss:2.32243\tvalidation_1-mlogloss:2.38825\n",
      "[199]\tvalidation_0-mlogloss:2.32197\tvalidation_1-mlogloss:2.38805\n",
      "[200]\tvalidation_0-mlogloss:2.32151\tvalidation_1-mlogloss:2.38795\n",
      "[201]\tvalidation_0-mlogloss:2.32116\tvalidation_1-mlogloss:2.38786\n",
      "[202]\tvalidation_0-mlogloss:2.32077\tvalidation_1-mlogloss:2.38774\n",
      "[203]\tvalidation_0-mlogloss:2.32034\tvalidation_1-mlogloss:2.38763\n",
      "[204]\tvalidation_0-mlogloss:2.31986\tvalidation_1-mlogloss:2.38752\n",
      "[205]\tvalidation_0-mlogloss:2.31941\tvalidation_1-mlogloss:2.38742\n",
      "[206]\tvalidation_0-mlogloss:2.31899\tvalidation_1-mlogloss:2.38718\n",
      "[207]\tvalidation_0-mlogloss:2.31862\tvalidation_1-mlogloss:2.38704\n",
      "[208]\tvalidation_0-mlogloss:2.31823\tvalidation_1-mlogloss:2.38694\n",
      "[209]\tvalidation_0-mlogloss:2.31785\tvalidation_1-mlogloss:2.38687\n",
      "[210]\tvalidation_0-mlogloss:2.31744\tvalidation_1-mlogloss:2.38679\n",
      "[211]\tvalidation_0-mlogloss:2.31706\tvalidation_1-mlogloss:2.38668\n",
      "[212]\tvalidation_0-mlogloss:2.31659\tvalidation_1-mlogloss:2.38658\n",
      "[213]\tvalidation_0-mlogloss:2.31615\tvalidation_1-mlogloss:2.38641\n",
      "[214]\tvalidation_0-mlogloss:2.31563\tvalidation_1-mlogloss:2.38626\n",
      "[215]\tvalidation_0-mlogloss:2.31521\tvalidation_1-mlogloss:2.38604\n",
      "[216]\tvalidation_0-mlogloss:2.3148\tvalidation_1-mlogloss:2.3859\n",
      "[217]\tvalidation_0-mlogloss:2.31437\tvalidation_1-mlogloss:2.38573\n",
      "[218]\tvalidation_0-mlogloss:2.31398\tvalidation_1-mlogloss:2.38561\n",
      "[219]\tvalidation_0-mlogloss:2.31354\tvalidation_1-mlogloss:2.38548\n",
      "[220]\tvalidation_0-mlogloss:2.31309\tvalidation_1-mlogloss:2.38533\n",
      "[221]\tvalidation_0-mlogloss:2.31274\tvalidation_1-mlogloss:2.38524\n",
      "[222]\tvalidation_0-mlogloss:2.31229\tvalidation_1-mlogloss:2.38511\n",
      "[223]\tvalidation_0-mlogloss:2.31188\tvalidation_1-mlogloss:2.38502\n",
      "[224]\tvalidation_0-mlogloss:2.31153\tvalidation_1-mlogloss:2.38492\n",
      "[225]\tvalidation_0-mlogloss:2.31116\tvalidation_1-mlogloss:2.38479\n",
      "[226]\tvalidation_0-mlogloss:2.31076\tvalidation_1-mlogloss:2.3847\n",
      "[227]\tvalidation_0-mlogloss:2.31038\tvalidation_1-mlogloss:2.38454\n",
      "[228]\tvalidation_0-mlogloss:2.30999\tvalidation_1-mlogloss:2.38443\n",
      "[229]\tvalidation_0-mlogloss:2.30955\tvalidation_1-mlogloss:2.38432\n",
      "[230]\tvalidation_0-mlogloss:2.30917\tvalidation_1-mlogloss:2.38427\n",
      "[231]\tvalidation_0-mlogloss:2.30876\tvalidation_1-mlogloss:2.38405\n",
      "[232]\tvalidation_0-mlogloss:2.30835\tvalidation_1-mlogloss:2.38397\n",
      "[233]\tvalidation_0-mlogloss:2.30793\tvalidation_1-mlogloss:2.38383\n",
      "[234]\tvalidation_0-mlogloss:2.30755\tvalidation_1-mlogloss:2.38377\n",
      "[235]\tvalidation_0-mlogloss:2.3072\tvalidation_1-mlogloss:2.3837\n",
      "[236]\tvalidation_0-mlogloss:2.30675\tvalidation_1-mlogloss:2.38358\n",
      "[237]\tvalidation_0-mlogloss:2.30635\tvalidation_1-mlogloss:2.38342\n",
      "[238]\tvalidation_0-mlogloss:2.30597\tvalidation_1-mlogloss:2.38325\n",
      "[239]\tvalidation_0-mlogloss:2.30555\tvalidation_1-mlogloss:2.38316\n",
      "[240]\tvalidation_0-mlogloss:2.30516\tvalidation_1-mlogloss:2.38303\n",
      "[241]\tvalidation_0-mlogloss:2.30478\tvalidation_1-mlogloss:2.38287\n",
      "[242]\tvalidation_0-mlogloss:2.30438\tvalidation_1-mlogloss:2.38277\n",
      "[243]\tvalidation_0-mlogloss:2.30398\tvalidation_1-mlogloss:2.38278\n",
      "[244]\tvalidation_0-mlogloss:2.3036\tvalidation_1-mlogloss:2.3826\n",
      "[245]\tvalidation_0-mlogloss:2.30326\tvalidation_1-mlogloss:2.38251\n",
      "[246]\tvalidation_0-mlogloss:2.30286\tvalidation_1-mlogloss:2.38239\n",
      "[247]\tvalidation_0-mlogloss:2.3024\tvalidation_1-mlogloss:2.38223\n",
      "[248]\tvalidation_0-mlogloss:2.30207\tvalidation_1-mlogloss:2.38214\n"
     ]
    },
    {
     "name": "stdout",
     "output_type": "stream",
     "text": [
      "[249]\tvalidation_0-mlogloss:2.30171\tvalidation_1-mlogloss:2.38201\n",
      "[250]\tvalidation_0-mlogloss:2.3013\tvalidation_1-mlogloss:2.38192\n",
      "[251]\tvalidation_0-mlogloss:2.30096\tvalidation_1-mlogloss:2.38188\n",
      "[252]\tvalidation_0-mlogloss:2.30063\tvalidation_1-mlogloss:2.38178\n",
      "[253]\tvalidation_0-mlogloss:2.30028\tvalidation_1-mlogloss:2.38165\n",
      "[254]\tvalidation_0-mlogloss:2.29997\tvalidation_1-mlogloss:2.3816\n",
      "[255]\tvalidation_0-mlogloss:2.29965\tvalidation_1-mlogloss:2.38155\n",
      "[256]\tvalidation_0-mlogloss:2.29931\tvalidation_1-mlogloss:2.38144\n",
      "[257]\tvalidation_0-mlogloss:2.29892\tvalidation_1-mlogloss:2.38143\n",
      "[258]\tvalidation_0-mlogloss:2.2986\tvalidation_1-mlogloss:2.38139\n",
      "[259]\tvalidation_0-mlogloss:2.29824\tvalidation_1-mlogloss:2.38126\n",
      "[260]\tvalidation_0-mlogloss:2.29785\tvalidation_1-mlogloss:2.38113\n",
      "[261]\tvalidation_0-mlogloss:2.29746\tvalidation_1-mlogloss:2.38103\n",
      "[262]\tvalidation_0-mlogloss:2.29715\tvalidation_1-mlogloss:2.38093\n",
      "[263]\tvalidation_0-mlogloss:2.29679\tvalidation_1-mlogloss:2.38082\n",
      "[264]\tvalidation_0-mlogloss:2.29642\tvalidation_1-mlogloss:2.38076\n",
      "[265]\tvalidation_0-mlogloss:2.29609\tvalidation_1-mlogloss:2.38074\n",
      "[266]\tvalidation_0-mlogloss:2.29576\tvalidation_1-mlogloss:2.38065\n",
      "[267]\tvalidation_0-mlogloss:2.29541\tvalidation_1-mlogloss:2.38054\n",
      "[268]\tvalidation_0-mlogloss:2.2951\tvalidation_1-mlogloss:2.38051\n",
      "[269]\tvalidation_0-mlogloss:2.2947\tvalidation_1-mlogloss:2.38042\n",
      "[270]\tvalidation_0-mlogloss:2.29441\tvalidation_1-mlogloss:2.38034\n",
      "[271]\tvalidation_0-mlogloss:2.29409\tvalidation_1-mlogloss:2.3803\n",
      "[272]\tvalidation_0-mlogloss:2.29372\tvalidation_1-mlogloss:2.38021\n",
      "[273]\tvalidation_0-mlogloss:2.29336\tvalidation_1-mlogloss:2.38009\n",
      "[274]\tvalidation_0-mlogloss:2.29296\tvalidation_1-mlogloss:2.38001\n",
      "[275]\tvalidation_0-mlogloss:2.29264\tvalidation_1-mlogloss:2.37995\n",
      "[276]\tvalidation_0-mlogloss:2.29233\tvalidation_1-mlogloss:2.37987\n",
      "[277]\tvalidation_0-mlogloss:2.292\tvalidation_1-mlogloss:2.3798\n",
      "[278]\tvalidation_0-mlogloss:2.29164\tvalidation_1-mlogloss:2.37975\n",
      "[279]\tvalidation_0-mlogloss:2.29129\tvalidation_1-mlogloss:2.37965\n",
      "[280]\tvalidation_0-mlogloss:2.29095\tvalidation_1-mlogloss:2.37959\n",
      "[281]\tvalidation_0-mlogloss:2.29061\tvalidation_1-mlogloss:2.37951\n",
      "[282]\tvalidation_0-mlogloss:2.29025\tvalidation_1-mlogloss:2.37936\n",
      "[283]\tvalidation_0-mlogloss:2.2899\tvalidation_1-mlogloss:2.37934\n",
      "[284]\tvalidation_0-mlogloss:2.28955\tvalidation_1-mlogloss:2.37918\n",
      "[285]\tvalidation_0-mlogloss:2.28925\tvalidation_1-mlogloss:2.37915\n",
      "[286]\tvalidation_0-mlogloss:2.28892\tvalidation_1-mlogloss:2.3791\n",
      "[287]\tvalidation_0-mlogloss:2.2886\tvalidation_1-mlogloss:2.37901\n",
      "[288]\tvalidation_0-mlogloss:2.28824\tvalidation_1-mlogloss:2.37892\n",
      "[289]\tvalidation_0-mlogloss:2.28787\tvalidation_1-mlogloss:2.3788\n",
      "[290]\tvalidation_0-mlogloss:2.28755\tvalidation_1-mlogloss:2.37864\n",
      "[291]\tvalidation_0-mlogloss:2.28715\tvalidation_1-mlogloss:2.37855\n",
      "[292]\tvalidation_0-mlogloss:2.28677\tvalidation_1-mlogloss:2.37843\n",
      "[293]\tvalidation_0-mlogloss:2.28636\tvalidation_1-mlogloss:2.37829\n",
      "[294]\tvalidation_0-mlogloss:2.28607\tvalidation_1-mlogloss:2.37822\n",
      "[295]\tvalidation_0-mlogloss:2.28573\tvalidation_1-mlogloss:2.37815\n",
      "[296]\tvalidation_0-mlogloss:2.28536\tvalidation_1-mlogloss:2.37803\n",
      "[297]\tvalidation_0-mlogloss:2.28493\tvalidation_1-mlogloss:2.37788\n",
      "[298]\tvalidation_0-mlogloss:2.28464\tvalidation_1-mlogloss:2.37781\n",
      "[299]\tvalidation_0-mlogloss:2.28427\tvalidation_1-mlogloss:2.37767\n",
      "[300]\tvalidation_0-mlogloss:2.28395\tvalidation_1-mlogloss:2.37762\n",
      "[301]\tvalidation_0-mlogloss:2.28359\tvalidation_1-mlogloss:2.3776\n",
      "[302]\tvalidation_0-mlogloss:2.28328\tvalidation_1-mlogloss:2.37749\n",
      "[303]\tvalidation_0-mlogloss:2.28297\tvalidation_1-mlogloss:2.37746\n",
      "[304]\tvalidation_0-mlogloss:2.2827\tvalidation_1-mlogloss:2.3774\n",
      "[305]\tvalidation_0-mlogloss:2.28238\tvalidation_1-mlogloss:2.37735\n",
      "[306]\tvalidation_0-mlogloss:2.28196\tvalidation_1-mlogloss:2.37718\n",
      "[307]\tvalidation_0-mlogloss:2.28168\tvalidation_1-mlogloss:2.37712\n",
      "[308]\tvalidation_0-mlogloss:2.28132\tvalidation_1-mlogloss:2.37706\n",
      "[309]\tvalidation_0-mlogloss:2.28094\tvalidation_1-mlogloss:2.37701\n",
      "[310]\tvalidation_0-mlogloss:2.28055\tvalidation_1-mlogloss:2.37686\n",
      "[311]\tvalidation_0-mlogloss:2.28022\tvalidation_1-mlogloss:2.37679\n",
      "[312]\tvalidation_0-mlogloss:2.27994\tvalidation_1-mlogloss:2.37674\n",
      "[313]\tvalidation_0-mlogloss:2.27965\tvalidation_1-mlogloss:2.37674\n",
      "[314]\tvalidation_0-mlogloss:2.27934\tvalidation_1-mlogloss:2.37672\n",
      "[315]\tvalidation_0-mlogloss:2.27902\tvalidation_1-mlogloss:2.37666\n",
      "[316]\tvalidation_0-mlogloss:2.27877\tvalidation_1-mlogloss:2.37662\n",
      "[317]\tvalidation_0-mlogloss:2.27841\tvalidation_1-mlogloss:2.37656\n",
      "[318]\tvalidation_0-mlogloss:2.27814\tvalidation_1-mlogloss:2.3765\n",
      "[319]\tvalidation_0-mlogloss:2.27782\tvalidation_1-mlogloss:2.37638\n",
      "[320]\tvalidation_0-mlogloss:2.27746\tvalidation_1-mlogloss:2.3763\n",
      "[321]\tvalidation_0-mlogloss:2.27713\tvalidation_1-mlogloss:2.37623\n",
      "[322]\tvalidation_0-mlogloss:2.2768\tvalidation_1-mlogloss:2.37614\n",
      "[323]\tvalidation_0-mlogloss:2.27647\tvalidation_1-mlogloss:2.37611\n",
      "[324]\tvalidation_0-mlogloss:2.27609\tvalidation_1-mlogloss:2.37605\n",
      "[325]\tvalidation_0-mlogloss:2.27575\tvalidation_1-mlogloss:2.37597\n",
      "[326]\tvalidation_0-mlogloss:2.27549\tvalidation_1-mlogloss:2.37587\n",
      "[327]\tvalidation_0-mlogloss:2.27517\tvalidation_1-mlogloss:2.37579\n",
      "[328]\tvalidation_0-mlogloss:2.27484\tvalidation_1-mlogloss:2.37573\n",
      "[329]\tvalidation_0-mlogloss:2.27451\tvalidation_1-mlogloss:2.37569\n",
      "[330]\tvalidation_0-mlogloss:2.27422\tvalidation_1-mlogloss:2.37561\n",
      "[331]\tvalidation_0-mlogloss:2.27389\tvalidation_1-mlogloss:2.37557\n",
      "[332]\tvalidation_0-mlogloss:2.27367\tvalidation_1-mlogloss:2.37555\n",
      "[333]\tvalidation_0-mlogloss:2.27332\tvalidation_1-mlogloss:2.37539\n",
      "[334]\tvalidation_0-mlogloss:2.27304\tvalidation_1-mlogloss:2.37535\n",
      "[335]\tvalidation_0-mlogloss:2.27274\tvalidation_1-mlogloss:2.37531\n",
      "[336]\tvalidation_0-mlogloss:2.27239\tvalidation_1-mlogloss:2.37522\n",
      "[337]\tvalidation_0-mlogloss:2.2721\tvalidation_1-mlogloss:2.37511\n",
      "[338]\tvalidation_0-mlogloss:2.27175\tvalidation_1-mlogloss:2.37498\n",
      "[339]\tvalidation_0-mlogloss:2.27146\tvalidation_1-mlogloss:2.37497\n",
      "[340]\tvalidation_0-mlogloss:2.27111\tvalidation_1-mlogloss:2.37489\n",
      "[341]\tvalidation_0-mlogloss:2.27083\tvalidation_1-mlogloss:2.3748\n",
      "[342]\tvalidation_0-mlogloss:2.27052\tvalidation_1-mlogloss:2.37473\n",
      "[343]\tvalidation_0-mlogloss:2.27022\tvalidation_1-mlogloss:2.37466\n",
      "[344]\tvalidation_0-mlogloss:2.26993\tvalidation_1-mlogloss:2.37458\n",
      "[345]\tvalidation_0-mlogloss:2.26959\tvalidation_1-mlogloss:2.37446\n",
      "[346]\tvalidation_0-mlogloss:2.26922\tvalidation_1-mlogloss:2.37436\n",
      "[347]\tvalidation_0-mlogloss:2.26894\tvalidation_1-mlogloss:2.37434\n",
      "[348]\tvalidation_0-mlogloss:2.26865\tvalidation_1-mlogloss:2.37435\n",
      "[349]\tvalidation_0-mlogloss:2.26831\tvalidation_1-mlogloss:2.37427\n",
      "[350]\tvalidation_0-mlogloss:2.26803\tvalidation_1-mlogloss:2.37422\n",
      "[351]\tvalidation_0-mlogloss:2.26777\tvalidation_1-mlogloss:2.37418\n",
      "[352]\tvalidation_0-mlogloss:2.26751\tvalidation_1-mlogloss:2.37411\n",
      "[353]\tvalidation_0-mlogloss:2.26723\tvalidation_1-mlogloss:2.37408\n",
      "[354]\tvalidation_0-mlogloss:2.267\tvalidation_1-mlogloss:2.37409\n",
      "[355]\tvalidation_0-mlogloss:2.26673\tvalidation_1-mlogloss:2.37407\n",
      "[356]\tvalidation_0-mlogloss:2.26645\tvalidation_1-mlogloss:2.37405\n",
      "[357]\tvalidation_0-mlogloss:2.26612\tvalidation_1-mlogloss:2.37399\n",
      "[358]\tvalidation_0-mlogloss:2.26575\tvalidation_1-mlogloss:2.37398\n",
      "[359]\tvalidation_0-mlogloss:2.26544\tvalidation_1-mlogloss:2.37389\n",
      "[360]\tvalidation_0-mlogloss:2.26519\tvalidation_1-mlogloss:2.37386\n",
      "[361]\tvalidation_0-mlogloss:2.26489\tvalidation_1-mlogloss:2.37377\n",
      "[362]\tvalidation_0-mlogloss:2.26461\tvalidation_1-mlogloss:2.37365\n",
      "[363]\tvalidation_0-mlogloss:2.26434\tvalidation_1-mlogloss:2.37363\n",
      "[364]\tvalidation_0-mlogloss:2.26405\tvalidation_1-mlogloss:2.37353\n",
      "[365]\tvalidation_0-mlogloss:2.26375\tvalidation_1-mlogloss:2.37349\n",
      "[366]\tvalidation_0-mlogloss:2.26346\tvalidation_1-mlogloss:2.3734\n",
      "[367]\tvalidation_0-mlogloss:2.26317\tvalidation_1-mlogloss:2.37338\n",
      "[368]\tvalidation_0-mlogloss:2.26284\tvalidation_1-mlogloss:2.37331\n",
      "[369]\tvalidation_0-mlogloss:2.26254\tvalidation_1-mlogloss:2.3733\n",
      "[370]\tvalidation_0-mlogloss:2.26226\tvalidation_1-mlogloss:2.37327\n",
      "[371]\tvalidation_0-mlogloss:2.26192\tvalidation_1-mlogloss:2.37321\n",
      "[372]\tvalidation_0-mlogloss:2.26162\tvalidation_1-mlogloss:2.37317\n",
      "[373]\tvalidation_0-mlogloss:2.26138\tvalidation_1-mlogloss:2.37309\n"
     ]
    },
    {
     "name": "stdout",
     "output_type": "stream",
     "text": [
      "[374]\tvalidation_0-mlogloss:2.26102\tvalidation_1-mlogloss:2.37293\n",
      "[375]\tvalidation_0-mlogloss:2.26071\tvalidation_1-mlogloss:2.37289\n",
      "[376]\tvalidation_0-mlogloss:2.2604\tvalidation_1-mlogloss:2.37276\n",
      "[377]\tvalidation_0-mlogloss:2.26013\tvalidation_1-mlogloss:2.3727\n",
      "[378]\tvalidation_0-mlogloss:2.25983\tvalidation_1-mlogloss:2.3726\n",
      "[379]\tvalidation_0-mlogloss:2.25956\tvalidation_1-mlogloss:2.37255\n",
      "[380]\tvalidation_0-mlogloss:2.25929\tvalidation_1-mlogloss:2.37252\n",
      "[381]\tvalidation_0-mlogloss:2.259\tvalidation_1-mlogloss:2.37248\n",
      "[382]\tvalidation_0-mlogloss:2.25871\tvalidation_1-mlogloss:2.3724\n",
      "[383]\tvalidation_0-mlogloss:2.25839\tvalidation_1-mlogloss:2.37231\n",
      "[384]\tvalidation_0-mlogloss:2.25813\tvalidation_1-mlogloss:2.37226\n",
      "[385]\tvalidation_0-mlogloss:2.25782\tvalidation_1-mlogloss:2.37216\n",
      "[386]\tvalidation_0-mlogloss:2.25755\tvalidation_1-mlogloss:2.37212\n",
      "[387]\tvalidation_0-mlogloss:2.25719\tvalidation_1-mlogloss:2.37202\n",
      "[388]\tvalidation_0-mlogloss:2.25689\tvalidation_1-mlogloss:2.372\n",
      "[389]\tvalidation_0-mlogloss:2.2566\tvalidation_1-mlogloss:2.37194\n",
      "[390]\tvalidation_0-mlogloss:2.25637\tvalidation_1-mlogloss:2.37191\n",
      "[391]\tvalidation_0-mlogloss:2.25603\tvalidation_1-mlogloss:2.37182\n",
      "[392]\tvalidation_0-mlogloss:2.25574\tvalidation_1-mlogloss:2.37172\n",
      "[393]\tvalidation_0-mlogloss:2.25552\tvalidation_1-mlogloss:2.37175\n",
      "[394]\tvalidation_0-mlogloss:2.25527\tvalidation_1-mlogloss:2.37174\n",
      "[395]\tvalidation_0-mlogloss:2.25496\tvalidation_1-mlogloss:2.37162\n",
      "[396]\tvalidation_0-mlogloss:2.25468\tvalidation_1-mlogloss:2.37157\n",
      "[397]\tvalidation_0-mlogloss:2.25438\tvalidation_1-mlogloss:2.37154\n",
      "[398]\tvalidation_0-mlogloss:2.25414\tvalidation_1-mlogloss:2.37147\n",
      "[399]\tvalidation_0-mlogloss:2.25383\tvalidation_1-mlogloss:2.37147\n",
      "[400]\tvalidation_0-mlogloss:2.25353\tvalidation_1-mlogloss:2.37143\n",
      "[401]\tvalidation_0-mlogloss:2.25325\tvalidation_1-mlogloss:2.37136\n",
      "[402]\tvalidation_0-mlogloss:2.2529\tvalidation_1-mlogloss:2.37126\n",
      "[403]\tvalidation_0-mlogloss:2.25259\tvalidation_1-mlogloss:2.37115\n",
      "[404]\tvalidation_0-mlogloss:2.25227\tvalidation_1-mlogloss:2.37105\n",
      "[405]\tvalidation_0-mlogloss:2.252\tvalidation_1-mlogloss:2.37104\n",
      "[406]\tvalidation_0-mlogloss:2.25171\tvalidation_1-mlogloss:2.371\n",
      "[407]\tvalidation_0-mlogloss:2.25145\tvalidation_1-mlogloss:2.37098\n",
      "[408]\tvalidation_0-mlogloss:2.25118\tvalidation_1-mlogloss:2.37099\n",
      "[409]\tvalidation_0-mlogloss:2.25091\tvalidation_1-mlogloss:2.371\n",
      "[410]\tvalidation_0-mlogloss:2.25065\tvalidation_1-mlogloss:2.37096\n",
      "[411]\tvalidation_0-mlogloss:2.25037\tvalidation_1-mlogloss:2.37092\n",
      "[412]\tvalidation_0-mlogloss:2.25009\tvalidation_1-mlogloss:2.37088\n",
      "[413]\tvalidation_0-mlogloss:2.24985\tvalidation_1-mlogloss:2.37084\n",
      "[414]\tvalidation_0-mlogloss:2.2496\tvalidation_1-mlogloss:2.37084\n",
      "[415]\tvalidation_0-mlogloss:2.24932\tvalidation_1-mlogloss:2.3708\n",
      "[416]\tvalidation_0-mlogloss:2.24905\tvalidation_1-mlogloss:2.37073\n",
      "[417]\tvalidation_0-mlogloss:2.24878\tvalidation_1-mlogloss:2.37073\n",
      "[418]\tvalidation_0-mlogloss:2.24848\tvalidation_1-mlogloss:2.37062\n",
      "[419]\tvalidation_0-mlogloss:2.24819\tvalidation_1-mlogloss:2.37058\n",
      "[420]\tvalidation_0-mlogloss:2.24792\tvalidation_1-mlogloss:2.37048\n",
      "[421]\tvalidation_0-mlogloss:2.24764\tvalidation_1-mlogloss:2.37048\n",
      "[422]\tvalidation_0-mlogloss:2.24734\tvalidation_1-mlogloss:2.37039\n",
      "[423]\tvalidation_0-mlogloss:2.24707\tvalidation_1-mlogloss:2.37032\n",
      "[424]\tvalidation_0-mlogloss:2.24675\tvalidation_1-mlogloss:2.37024\n",
      "[425]\tvalidation_0-mlogloss:2.2465\tvalidation_1-mlogloss:2.3702\n",
      "[426]\tvalidation_0-mlogloss:2.24622\tvalidation_1-mlogloss:2.37015\n",
      "[427]\tvalidation_0-mlogloss:2.24596\tvalidation_1-mlogloss:2.37011\n",
      "[428]\tvalidation_0-mlogloss:2.24572\tvalidation_1-mlogloss:2.3701\n",
      "[429]\tvalidation_0-mlogloss:2.24542\tvalidation_1-mlogloss:2.37007\n",
      "[430]\tvalidation_0-mlogloss:2.24513\tvalidation_1-mlogloss:2.37006\n",
      "[431]\tvalidation_0-mlogloss:2.24483\tvalidation_1-mlogloss:2.37008\n",
      "[432]\tvalidation_0-mlogloss:2.24457\tvalidation_1-mlogloss:2.37002\n",
      "[433]\tvalidation_0-mlogloss:2.24427\tvalidation_1-mlogloss:2.36998\n",
      "[434]\tvalidation_0-mlogloss:2.24397\tvalidation_1-mlogloss:2.36989\n",
      "[435]\tvalidation_0-mlogloss:2.24371\tvalidation_1-mlogloss:2.36986\n",
      "[436]\tvalidation_0-mlogloss:2.24344\tvalidation_1-mlogloss:2.3698\n",
      "[437]\tvalidation_0-mlogloss:2.24321\tvalidation_1-mlogloss:2.36979\n",
      "[438]\tvalidation_0-mlogloss:2.24291\tvalidation_1-mlogloss:2.36966\n",
      "[439]\tvalidation_0-mlogloss:2.24265\tvalidation_1-mlogloss:2.36969\n",
      "[440]\tvalidation_0-mlogloss:2.2424\tvalidation_1-mlogloss:2.36973\n",
      "[441]\tvalidation_0-mlogloss:2.2421\tvalidation_1-mlogloss:2.36969\n",
      "[442]\tvalidation_0-mlogloss:2.24184\tvalidation_1-mlogloss:2.36966\n",
      "[443]\tvalidation_0-mlogloss:2.24153\tvalidation_1-mlogloss:2.36963\n",
      "[444]\tvalidation_0-mlogloss:2.24126\tvalidation_1-mlogloss:2.36958\n",
      "[445]\tvalidation_0-mlogloss:2.24102\tvalidation_1-mlogloss:2.36955\n",
      "[446]\tvalidation_0-mlogloss:2.24076\tvalidation_1-mlogloss:2.36946\n",
      "[447]\tvalidation_0-mlogloss:2.24054\tvalidation_1-mlogloss:2.36942\n",
      "[448]\tvalidation_0-mlogloss:2.24028\tvalidation_1-mlogloss:2.36939\n",
      "[449]\tvalidation_0-mlogloss:2.24001\tvalidation_1-mlogloss:2.36939\n",
      "[450]\tvalidation_0-mlogloss:2.23972\tvalidation_1-mlogloss:2.36932\n",
      "[451]\tvalidation_0-mlogloss:2.23943\tvalidation_1-mlogloss:2.36924\n",
      "[452]\tvalidation_0-mlogloss:2.23914\tvalidation_1-mlogloss:2.36917\n",
      "[453]\tvalidation_0-mlogloss:2.23889\tvalidation_1-mlogloss:2.36917\n",
      "[454]\tvalidation_0-mlogloss:2.23867\tvalidation_1-mlogloss:2.36915\n",
      "[455]\tvalidation_0-mlogloss:2.23839\tvalidation_1-mlogloss:2.36908\n",
      "[456]\tvalidation_0-mlogloss:2.23815\tvalidation_1-mlogloss:2.36909\n",
      "[457]\tvalidation_0-mlogloss:2.23788\tvalidation_1-mlogloss:2.3691\n",
      "[458]\tvalidation_0-mlogloss:2.23762\tvalidation_1-mlogloss:2.36899\n",
      "[459]\tvalidation_0-mlogloss:2.23736\tvalidation_1-mlogloss:2.36898\n",
      "[460]\tvalidation_0-mlogloss:2.23707\tvalidation_1-mlogloss:2.36896\n",
      "[461]\tvalidation_0-mlogloss:2.23686\tvalidation_1-mlogloss:2.36893\n",
      "[462]\tvalidation_0-mlogloss:2.23655\tvalidation_1-mlogloss:2.36886\n",
      "[463]\tvalidation_0-mlogloss:2.23633\tvalidation_1-mlogloss:2.36881\n",
      "[464]\tvalidation_0-mlogloss:2.23608\tvalidation_1-mlogloss:2.3688\n",
      "[465]\tvalidation_0-mlogloss:2.23576\tvalidation_1-mlogloss:2.36877\n",
      "[466]\tvalidation_0-mlogloss:2.23551\tvalidation_1-mlogloss:2.3687\n",
      "[467]\tvalidation_0-mlogloss:2.23525\tvalidation_1-mlogloss:2.36869\n",
      "[468]\tvalidation_0-mlogloss:2.23504\tvalidation_1-mlogloss:2.3687\n",
      "[469]\tvalidation_0-mlogloss:2.23478\tvalidation_1-mlogloss:2.36867\n",
      "[470]\tvalidation_0-mlogloss:2.23453\tvalidation_1-mlogloss:2.36867\n",
      "[471]\tvalidation_0-mlogloss:2.23431\tvalidation_1-mlogloss:2.36864\n",
      "[472]\tvalidation_0-mlogloss:2.23404\tvalidation_1-mlogloss:2.36862\n",
      "[473]\tvalidation_0-mlogloss:2.23378\tvalidation_1-mlogloss:2.36859\n",
      "[474]\tvalidation_0-mlogloss:2.23351\tvalidation_1-mlogloss:2.36857\n",
      "[475]\tvalidation_0-mlogloss:2.23327\tvalidation_1-mlogloss:2.36862\n",
      "[476]\tvalidation_0-mlogloss:2.233\tvalidation_1-mlogloss:2.3686\n",
      "[477]\tvalidation_0-mlogloss:2.23278\tvalidation_1-mlogloss:2.36863\n",
      "[478]\tvalidation_0-mlogloss:2.23257\tvalidation_1-mlogloss:2.36861\n",
      "[479]\tvalidation_0-mlogloss:2.23232\tvalidation_1-mlogloss:2.36857\n",
      "Stopping. Best iteration:\n",
      "[474]\tvalidation_0-mlogloss:2.23351\tvalidation_1-mlogloss:2.36857\n",
      "\n"
     ]
    },
    {
     "data": {
      "text/plain": [
       "XGBClassifier(base_score=0.5, booster='gbtree', colsample_bylevel=1,\n",
       "              colsample_bynode=1, colsample_bytree=1, gamma=0,\n",
       "              learning_rate=0.25, max_delta_step=0, max_depth=4,\n",
       "              min_child_weight=1, missing=None, n_estimators=1000, n_jobs=1,\n",
       "              nthread=None, objective='multi:softprob', random_state=0,\n",
       "              reg_alpha=0, reg_lambda=1, scale_pos_weight=1, seed=None,\n",
       "              silent=None, subsample=0.5, verbosity=1)"
      ]
     },
     "execution_count": 34,
     "metadata": {},
     "output_type": "execute_result"
    }
   ],
   "source": [
    "r1.fit(x_train,y_train,eval_set=[(x_train,y_train),(x_test,y_test)],early_stopping_rounds=5,eval_metric=\"mlogloss\")"
   ]
  },
  {
   "cell_type": "code",
   "execution_count": 35,
   "metadata": {},
   "outputs": [],
   "source": [
    "pred=r1.predict_proba(x_val)"
   ]
  },
  {
   "cell_type": "code",
   "execution_count": 36,
   "metadata": {},
   "outputs": [
    {
     "data": {
      "text/plain": [
       "2.3651582182322457"
      ]
     },
     "execution_count": 36,
     "metadata": {},
     "output_type": "execute_result"
    }
   ],
   "source": [
    "log_loss(y_val,pred,labels=[i for i in range(0,39)])"
   ]
  },
  {
   "cell_type": "code",
   "execution_count": 40,
   "metadata": {},
   "outputs": [
    {
     "name": "stderr",
     "output_type": "stream",
     "text": [
      "C:\\Users\\saipo\\Anaconda3\\lib\\site-packages\\ipykernel_launcher.py:3: FutureWarning: \n",
      ".ix is deprecated. Please use\n",
      ".loc for label based indexing or\n",
      ".iloc for positional indexing\n",
      "\n",
      "See the documentation here:\n",
      "http://pandas.pydata.org/pandas-docs/stable/user_guide/indexing.html#ix-indexer-is-deprecated\n",
      "  This is separate from the ipykernel package so we can avoid doing imports until\n",
      "C:\\Users\\saipo\\Anaconda3\\lib\\site-packages\\pandas\\core\\indexing.py:822: FutureWarning: \n",
      ".ix is deprecated. Please use\n",
      ".loc for label based indexing or\n",
      ".iloc for positional indexing\n",
      "\n",
      "See the documentation here:\n",
      "http://pandas.pydata.org/pandas-docs/stable/user_guide/indexing.html#ix-indexer-is-deprecated\n",
      "  retval = getattr(retval, self.name)._getitem_axis(key, axis=i)\n",
      "C:\\Users\\saipo\\Anaconda3\\lib\\site-packages\\ipykernel_launcher.py:4: FutureWarning: \n",
      ".ix is deprecated. Please use\n",
      ".loc for label based indexing or\n",
      ".iloc for positional indexing\n",
      "\n",
      "See the documentation here:\n",
      "http://pandas.pydata.org/pandas-docs/stable/user_guide/indexing.html#ix-indexer-is-deprecated\n",
      "  after removing the cwd from sys.path.\n",
      "C:\\Users\\saipo\\Anaconda3\\lib\\site-packages\\pandas\\core\\indexing.py:822: FutureWarning: \n",
      ".ix is deprecated. Please use\n",
      ".loc for label based indexing or\n",
      ".iloc for positional indexing\n",
      "\n",
      "See the documentation here:\n",
      "http://pandas.pydata.org/pandas-docs/stable/user_guide/indexing.html#ix-indexer-is-deprecated\n",
      "  retval = getattr(retval, self.name)._getitem_axis(key, axis=i)\n"
     ]
    },
    {
     "data": {
      "text/plain": [
       "0.500622977001282"
      ]
     },
     "execution_count": 40,
     "metadata": {},
     "output_type": "execute_result"
    }
   ],
   "source": [
    "training, validation = train_test_split(df, train_size=.60)\n",
    "model = RandomForestClassifier(n_estimators=200, max_depth=20, n_jobs=-1)\n",
    "model.fit(training.ix[:,:-1], training.Category)\n",
    "predicted = np.array(model.predict_proba(validation.ix[:,:-1]))\n",
    "log_loss(validation.Category, predicted)"
   ]
  },
  {
   "cell_type": "code",
   "execution_count": 43,
   "metadata": {},
   "outputs": [
    {
     "data": {
      "text/plain": [
       "2.4940920604474237"
      ]
     },
     "execution_count": 43,
     "metadata": {},
     "output_type": "execute_result"
    }
   ],
   "source": [
    "# Random Forest Classifier\n",
    "from sklearn.metrics import log_loss\n",
    "from sklearn.ensemble import RandomForestClassifier\n",
    "\n",
    "clf_A = RandomForestClassifier(max_depth=10, n_estimators=100)\n",
    "clf_A.fit(x_train, y_train)\n",
    "clf_probs = clf_A.predict_proba(x_test)\n",
    "score = log_loss(y_test, clf_probs)\n",
    "score"
   ]
  },
  {
   "cell_type": "code",
   "execution_count": 44,
   "metadata": {},
   "outputs": [
    {
     "data": {
      "text/plain": [
       "2.441825335286413"
      ]
     },
     "execution_count": 44,
     "metadata": {},
     "output_type": "execute_result"
    }
   ],
   "source": [
    "# Random Forest Classifier\n",
    "from sklearn.metrics import log_loss\n",
    "from sklearn.ensemble import RandomForestClassifier\n",
    "\n",
    "clf_A = RandomForestClassifier(max_depth=13, n_estimators=200)\n",
    "clf_A.fit(x_train, y_train)\n",
    "clf_probs = clf_A.predict_proba(x_test)\n",
    "score = log_loss(y_test, clf_probs)\n",
    "score"
   ]
  },
  {
   "cell_type": "code",
   "execution_count": 30,
   "metadata": {},
   "outputs": [
    {
     "data": {
      "text/plain": [
       "2.6358792561362208"
      ]
     },
     "execution_count": 30,
     "metadata": {},
     "output_type": "execute_result"
    }
   ],
   "source": [
    "# Naive-Bayes\n",
    "from sklearn.naive_bayes import BernoulliNB\n",
    "clf_D = BernoulliNB()\n",
    "clf_D.fit(x_train,y_train)\n",
    "clf_probs_nb = clf_D.predict_proba(x_test)\n",
    "score = log_loss(y_test, clf_probs_nb)\n",
    "score"
   ]
  },
  {
   "cell_type": "code",
   "execution_count": 45,
   "metadata": {},
   "outputs": [
    {
     "data": {
      "text/plain": [
       "2.3738845809290114"
      ]
     },
     "execution_count": 45,
     "metadata": {},
     "output_type": "execute_result"
    }
   ],
   "source": [
    "# Random Forest Classifier\n",
    "from sklearn.metrics import log_loss\n",
    "from sklearn.ensemble import RandomForestClassifier\n",
    "\n",
    "clf_A = RandomForestClassifier(max_depth=20, n_estimators=200)\n",
    "clf_A.fit(x_train, y_train)\n",
    "clf_probs = clf_A.predict_proba(x_test)\n",
    "score = log_loss(y_test, clf_probs)\n",
    "score"
   ]
  },
  {
   "cell_type": "code",
   "execution_count": 47,
   "metadata": {},
   "outputs": [
    {
     "name": "stderr",
     "output_type": "stream",
     "text": [
      "C:\\Users\\saipo\\Anaconda3\\lib\\site-packages\\sklearn\\linear_model\\logistic.py:432: FutureWarning: Default solver will be changed to 'lbfgs' in 0.22. Specify a solver to silence this warning.\n",
      "  FutureWarning)\n",
      "C:\\Users\\saipo\\Anaconda3\\lib\\site-packages\\sklearn\\linear_model\\logistic.py:469: FutureWarning: Default multi_class will be changed to 'auto' in 0.22. Specify the multi_class option to silence this warning.\n",
      "  \"this warning.\", FutureWarning)\n"
     ]
    },
    {
     "data": {
      "text/plain": [
       "2.617809246402067"
      ]
     },
     "execution_count": 47,
     "metadata": {},
     "output_type": "execute_result"
    }
   ],
   "source": [
    "# Logistic Regression\n",
    "from sklearn.linear_model import LogisticRegression\n",
    "\n",
    "clf_B = LogisticRegression(C=.001)\n",
    "clf_B.fit(x_train,y_train)\n",
    "clf_probs_logit = clf_B.predict_proba(x_test)\n",
    "score = log_loss(y_test, clf_probs_logit)\n",
    "score"
   ]
  },
  {
   "cell_type": "code",
   "execution_count": 32,
   "metadata": {},
   "outputs": [],
   "source": [
    "from sklearn.preprocessing import StandardScaler\n",
    "scaler = StandardScaler()\n",
    "scaler.fit(x_train)\n",
    "\n",
    "X_train = scaler.transform(x_train)\n",
    "X_test = scaler.transform(x_test)"
   ]
  },
  {
   "cell_type": "code",
   "execution_count": 58,
   "metadata": {},
   "outputs": [
    {
     "data": {
      "text/plain": [
       "KNeighborsClassifier(algorithm='auto', leaf_size=30, metric='minkowski',\n",
       "                     metric_params=None, n_jobs=None, n_neighbors=100, p=2,\n",
       "                     weights='uniform')"
      ]
     },
     "execution_count": 58,
     "metadata": {},
     "output_type": "execute_result"
    }
   ],
   "source": [
    "from sklearn.neighbors import KNeighborsClassifier\n",
    "classifier = KNeighborsClassifier(n_neighbors=100)\n",
    "classifier.fit(X_train, y_train)"
   ]
  },
  {
   "cell_type": "code",
   "execution_count": 72,
   "metadata": {},
   "outputs": [
    {
     "data": {
      "text/plain": [
       "3.8873447107736427"
      ]
     },
     "execution_count": 72,
     "metadata": {},
     "output_type": "execute_result"
    }
   ],
   "source": [
    "knn_prob = classifier.predict_proba(X_test)\n",
    "score = log_loss(y_test, knn_prob)\n",
    "score"
   ]
  },
  {
   "cell_type": "code",
   "execution_count": 33,
   "metadata": {},
   "outputs": [
    {
     "data": {
      "text/plain": [
       "2.673455776603427"
      ]
     },
     "execution_count": 33,
     "metadata": {},
     "output_type": "execute_result"
    }
   ],
   "source": [
    "from sklearn.neighbors import KNeighborsClassifier\n",
    "classifier = KNeighborsClassifier(n_neighbors=1000)\n",
    "classifier.fit(X_train, y_train)\n",
    "knn_prob = classifier.predict_proba(X_test)\n",
    "score = log_loss(y_test, knn_prob)\n",
    "score"
   ]
  },
  {
   "cell_type": "code",
   "execution_count": 34,
   "metadata": {},
   "outputs": [
    {
     "data": {
      "text/plain": [
       "6.5956889369927945"
      ]
     },
     "execution_count": 34,
     "metadata": {},
     "output_type": "execute_result"
    }
   ],
   "source": [
    "from sklearn.neighbors import KNeighborsClassifier\n",
    "classifier = KNeighborsClassifier(n_neighbors=34)\n",
    "classifier.fit(X_train, y_train)\n",
    "knn_prob = classifier.predict_proba(X_test)\n",
    "score = log_loss(y_test, knn_prob)\n",
    "score"
   ]
  },
  {
   "cell_type": "code",
   "execution_count": 35,
   "metadata": {},
   "outputs": [
    {
     "data": {
      "text/plain": [
       "2.61339691424102"
      ]
     },
     "execution_count": 35,
     "metadata": {},
     "output_type": "execute_result"
    }
   ],
   "source": [
    "from sklearn.neighbors import KNeighborsClassifier\n",
    "classifier = KNeighborsClassifier(n_neighbors=3000)\n",
    "classifier.fit(X_train, y_train)\n",
    "knn_prob = classifier.predict_proba(X_test)\n",
    "score = log_loss(y_test, knn_prob)\n",
    "score"
   ]
  },
  {
   "cell_type": "code",
   "execution_count": null,
   "metadata": {},
   "outputs": [],
   "source": [
    "from sklearn import preprocessing, cross_validation, svm\n",
    "crime_svm = svm.SVC(kernel='linear')\n",
    "crime_svm.fit(crime_train_data, crime_train_labels)\n",
    "predicted = np.array(crime_svm.predict_proba(crime_test_data))\n",
    "log_loss(crime_test_labels, predicted) \n",
    "crime_svm.score(crime_test_data, crime_test_labels)"
   ]
  },
  {
   "cell_type": "code",
   "execution_count": 30,
   "metadata": {},
   "outputs": [
    {
     "data": {
      "text/plain": [
       "(219513, 22)"
      ]
     },
     "execution_count": 30,
     "metadata": {},
     "output_type": "execute_result"
    }
   ],
   "source": [
    "x_test.shape\n"
   ]
  },
  {
   "cell_type": "code",
   "execution_count": 31,
   "metadata": {},
   "outputs": [
    {
     "data": {
      "text/plain": [
       "(219513,)"
      ]
     },
     "execution_count": 31,
     "metadata": {},
     "output_type": "execute_result"
    }
   ],
   "source": [
    "y_test.shape"
   ]
  },
  {
   "cell_type": "code",
   "execution_count": 32,
   "metadata": {},
   "outputs": [
    {
     "data": {
      "text/plain": [
       "(658536, 22)"
      ]
     },
     "execution_count": 32,
     "metadata": {},
     "output_type": "execute_result"
    }
   ],
   "source": [
    "x_train.shape"
   ]
  },
  {
   "cell_type": "code",
   "execution_count": 33,
   "metadata": {},
   "outputs": [
    {
     "data": {
      "text/plain": [
       "(658536,)"
      ]
     },
     "execution_count": 33,
     "metadata": {},
     "output_type": "execute_result"
    }
   ],
   "source": [
    "y_train.shape"
   ]
  },
  {
   "cell_type": "code",
   "execution_count": 36,
   "metadata": {},
   "outputs": [],
   "source": [
    "import pandas as pd\n",
    "import numpy as np\n",
    "import matplotlib.pyplot as plt\n",
    "import seaborn as sns\n",
    "import scipy.stats as st"
   ]
  },
  {
   "cell_type": "code",
   "execution_count": 37,
   "metadata": {},
   "outputs": [
    {
     "name": "stderr",
     "output_type": "stream",
     "text": [
      "Using TensorFlow backend.\n"
     ]
    }
   ],
   "source": [
    "from keras.models import Sequential\n",
    "from keras.layers.core import Dense, Activation\n",
    "from keras.callbacks import EarlyStopping\n",
    "from keras.callbacks import ModelCheckpoint\n",
    "from sklearn import metrics"
   ]
  },
  {
   "cell_type": "code",
   "execution_count": 38,
   "metadata": {},
   "outputs": [],
   "source": [
    "# Convert a Pandas dataframe to the x,y inputs that TensorFlow needs\n",
    "import collections\n",
    "def to_xy(dff, target):\n",
    "    result = []\n",
    "    for x in df.columns:\n",
    "        if x != target:\n",
    "            result.append(x)\n",
    "    # find out the type of the target column. \n",
    "    target_type = df[target].dtypes\n",
    "    target_type = target_type[0] if isinstance(target_type, collections.Sequence) else target_type\n",
    "    # Encode to int for classification, float otherwise. TensorFlow likes 32 bits.\n",
    "    if target_type in (np.int64, np.int32):\n",
    "        # Classification\n",
    "        dummies = pd.get_dummies(df[target])\n",
    "        return df[result].values.astype(np.float32), dummies.values.astype(np.float32)"
   ]
  },
  {
   "cell_type": "code",
   "execution_count": 39,
   "metadata": {},
   "outputs": [
    {
     "name": "stderr",
     "output_type": "stream",
     "text": [
      "C:\\Users\\saipo\\Anaconda3\\lib\\site-packages\\ipykernel_launcher.py:10: DeprecationWarning: Using or importing the ABCs from 'collections' instead of from 'collections.abc' is deprecated, and in 3.8 it will stop working\n",
      "  # Remove the CWD from sys.path while we load stuff.\n"
     ]
    }
   ],
   "source": [
    "\n",
    "\n",
    "x,y = to_xy(dff,\"Category\")"
   ]
  },
  {
   "cell_type": "code",
   "execution_count": 40,
   "metadata": {},
   "outputs": [],
   "source": [
    "x1,x2,y1,y2=train_test_split(x,y)"
   ]
  },
  {
   "cell_type": "code",
   "execution_count": 41,
   "metadata": {},
   "outputs": [
    {
     "data": {
      "text/plain": [
       "array([[-4.5552783e-02, -3.7227474e-02,  2.0110000e+03, ...,\n",
       "         0.0000000e+00,  0.0000000e+00,  0.0000000e+00],\n",
       "       [ 1.9388948e-02, -1.7078135e-02,  2.0070000e+03, ...,\n",
       "         0.0000000e+00,  0.0000000e+00,  0.0000000e+00],\n",
       "       [-2.8674098e-02, -5.6551918e-03,  2.0100000e+03, ...,\n",
       "         0.0000000e+00,  0.0000000e+00,  0.0000000e+00],\n",
       "       ...,\n",
       "       [ 4.9210079e-03,  3.5838340e-04,  2.0140000e+03, ...,\n",
       "         0.0000000e+00,  0.0000000e+00,  0.0000000e+00],\n",
       "       [ 4.4366601e-03,  2.0696957e-02,  2.0070000e+03, ...,\n",
       "         0.0000000e+00,  0.0000000e+00,  0.0000000e+00],\n",
       "       [ 8.6212149e-03, -1.1364031e-02,  2.0100000e+03, ...,\n",
       "         1.0000000e+00,  0.0000000e+00,  0.0000000e+00]], dtype=float32)"
      ]
     },
     "execution_count": 41,
     "metadata": {},
     "output_type": "execute_result"
    }
   ],
   "source": [
    "x1"
   ]
  },
  {
   "cell_type": "code",
   "execution_count": 42,
   "metadata": {},
   "outputs": [
    {
     "data": {
      "text/plain": [
       "array([[0., 0., 0., ..., 0., 0., 0.],\n",
       "       [0., 0., 0., ..., 0., 0., 0.],\n",
       "       [0., 0., 0., ..., 0., 0., 0.],\n",
       "       ...,\n",
       "       [0., 0., 0., ..., 0., 0., 0.],\n",
       "       [0., 0., 0., ..., 0., 0., 0.],\n",
       "       [0., 0., 0., ..., 0., 0., 0.]], dtype=float32)"
      ]
     },
     "execution_count": 42,
     "metadata": {},
     "output_type": "execute_result"
    }
   ],
   "source": [
    "y1"
   ]
  },
  {
   "cell_type": "code",
   "execution_count": 43,
   "metadata": {},
   "outputs": [
    {
     "data": {
      "text/plain": [
       "array([[ 8.9017110e-04, -8.3651049e-03,  2.0070000e+03, ...,\n",
       "         1.0000000e+00,  0.0000000e+00,  0.0000000e+00],\n",
       "       [ 1.2336379e-02,  5.2122999e-02,  2.0130000e+03, ...,\n",
       "         0.0000000e+00,  0.0000000e+00,  0.0000000e+00],\n",
       "       [-1.1726256e-03, -1.1735476e-02,  2.0050000e+03, ...,\n",
       "         1.0000000e+00,  0.0000000e+00,  0.0000000e+00],\n",
       "       ...,\n",
       "       [ 3.3571742e-02, -6.2753782e-03,  2.0110000e+03, ...,\n",
       "         0.0000000e+00,  0.0000000e+00,  0.0000000e+00],\n",
       "       [ 1.4013931e-02,  3.2704607e-02,  2.0140000e+03, ...,\n",
       "         0.0000000e+00,  0.0000000e+00,  0.0000000e+00],\n",
       "       [-3.0982494e-02, -3.1731565e-02,  2.0070000e+03, ...,\n",
       "         0.0000000e+00,  0.0000000e+00,  0.0000000e+00]], dtype=float32)"
      ]
     },
     "execution_count": 43,
     "metadata": {},
     "output_type": "execute_result"
    }
   ],
   "source": [
    "x2"
   ]
  },
  {
   "cell_type": "code",
   "execution_count": 44,
   "metadata": {},
   "outputs": [
    {
     "data": {
      "text/plain": [
       "array([[0., 1., 0., ..., 0., 0., 0.],\n",
       "       [0., 0., 0., ..., 0., 0., 0.],\n",
       "       [1., 0., 0., ..., 0., 0., 0.],\n",
       "       ...,\n",
       "       [0., 0., 0., ..., 0., 0., 0.],\n",
       "       [0., 0., 0., ..., 0., 0., 0.],\n",
       "       [0., 0., 0., ..., 0., 0., 0.]], dtype=float32)"
      ]
     },
     "execution_count": 44,
     "metadata": {},
     "output_type": "execute_result"
    }
   ],
   "source": [
    "y2"
   ]
  },
  {
   "cell_type": "code",
   "execution_count": 45,
   "metadata": {},
   "outputs": [
    {
     "name": "stdout",
     "output_type": "stream",
     "text": [
      "0\n",
      "Train on 658536 samples, validate on 219513 samples\n",
      "Epoch 1/10\n",
      " - 121s - loss: 3.0715 - val_loss: 2.6730\n",
      "Epoch 2/10\n",
      " - 113s - loss: 2.6753 - val_loss: 2.6625\n",
      "Epoch 3/10\n",
      " - 113s - loss: 2.6679 - val_loss: 2.6733\n",
      "Epoch 4/10\n",
      " - 112s - loss: 2.6633 - val_loss: 2.6652\n",
      "Epoch 5/10\n",
      " - 112s - loss: 2.6555 - val_loss: 2.6428\n",
      "Epoch 6/10\n",
      " - 112s - loss: 2.6439 - val_loss: 2.6378\n",
      "Epoch 7/10\n",
      " - 112s - loss: 2.6420 - val_loss: 2.6404\n",
      "Epoch 8/10\n",
      " - 112s - loss: 2.6411 - val_loss: 2.6374\n",
      "Epoch 9/10\n",
      " - 113s - loss: 2.6406 - val_loss: 2.6371\n",
      "Epoch 10/10\n",
      " - 112s - loss: 2.6401 - val_loss: 2.6341\n",
      "1\n",
      "Train on 658536 samples, validate on 219513 samples\n",
      "Epoch 1/10\n",
      " - 114s - loss: 3.1816 - val_loss: 2.6767\n",
      "Epoch 2/10\n",
      " - 113s - loss: 2.6753 - val_loss: 2.6625\n",
      "Epoch 3/10\n",
      " - 112s - loss: 2.6659 - val_loss: 2.6707\n",
      "Epoch 4/10\n",
      " - 113s - loss: 2.6600 - val_loss: 2.6604\n",
      "Epoch 5/10\n",
      " - 114s - loss: 2.6526 - val_loss: 2.6535\n",
      "Epoch 6/10\n",
      " - 116s - loss: 2.6460 - val_loss: 2.6406\n",
      "Epoch 7/10\n",
      " - 114s - loss: 2.6426 - val_loss: 2.6382\n",
      "Epoch 8/10\n",
      " - 112s - loss: 2.6425 - val_loss: 2.6451\n",
      "Epoch 9/10\n",
      " - 113s - loss: 2.6411 - val_loss: 2.6431\n",
      "Epoch 10/10\n",
      " - 113s - loss: 2.6410 - val_loss: 2.6372\n",
      "2\n",
      "Train on 658536 samples, validate on 219513 samples\n",
      "Epoch 1/10\n",
      " - 114s - loss: 3.1964 - val_loss: 2.6757\n",
      "Epoch 2/10\n",
      " - 113s - loss: 2.6744 - val_loss: 2.6655\n",
      "Epoch 3/10\n",
      " - 113s - loss: 2.6648 - val_loss: 2.6580\n",
      "Epoch 4/10\n",
      " - 113s - loss: 2.6603 - val_loss: 2.6549\n",
      "Epoch 5/10\n",
      " - 113s - loss: 2.6480 - val_loss: 2.6409\n",
      "Epoch 6/10\n",
      " - 113s - loss: 2.6364 - val_loss: 2.6286\n",
      "Epoch 7/10\n",
      " - 113s - loss: 2.6303 - val_loss: 2.6348\n",
      "Epoch 8/10\n",
      " - 113s - loss: 2.6262 - val_loss: 2.6306\n",
      "Epoch 9/10\n",
      " - 113s - loss: 2.6246 - val_loss: 2.6249\n",
      "Epoch 10/10\n",
      " - 113s - loss: 2.6242 - val_loss: 2.6204\n",
      "3\n",
      "Train on 658536 samples, validate on 219513 samples\n",
      "Epoch 1/10\n",
      " - 114s - loss: 3.1498 - val_loss: 2.6781\n",
      "Epoch 2/10\n",
      " - 113s - loss: 2.6737 - val_loss: 2.6620\n",
      "Epoch 3/10\n",
      " - 113s - loss: 2.6642 - val_loss: 2.6536\n",
      "Epoch 4/10\n",
      " - 112s - loss: 2.6571 - val_loss: 2.6459\n",
      "Epoch 5/10\n",
      " - 114s - loss: 2.6518 - val_loss: 2.6496\n",
      "Epoch 6/10\n",
      " - 117s - loss: 2.6475 - val_loss: 2.6380\n",
      "Epoch 7/10\n",
      " - 117s - loss: 2.6431 - val_loss: 2.6362\n",
      "Epoch 8/10\n",
      " - 117s - loss: 2.6397 - val_loss: 2.6474\n",
      "Epoch 9/10\n",
      " - 118s - loss: 2.6376 - val_loss: 2.6297\n",
      "Epoch 10/10\n",
      " - 120s - loss: 2.6350 - val_loss: 2.6326\n",
      "4\n",
      "Train on 658536 samples, validate on 219513 samples\n",
      "Epoch 1/10\n",
      " - 121s - loss: 3.0947 - val_loss: 2.6790\n",
      "Epoch 2/10\n",
      " - 121s - loss: 2.6751 - val_loss: 2.6825\n",
      "Epoch 3/10\n",
      " - 120s - loss: 2.6642 - val_loss: 2.6704\n",
      "Epoch 4/10\n",
      " - 119s - loss: 2.6551 - val_loss: 2.6436\n",
      "Epoch 5/10\n",
      " - 117s - loss: 2.6423 - val_loss: 2.6370\n",
      "Epoch 6/10\n",
      " - 114s - loss: 2.6372 - val_loss: 2.6296\n",
      "Epoch 7/10\n",
      " - 115s - loss: 2.6321 - val_loss: 2.6293\n",
      "Epoch 8/10\n",
      " - 114s - loss: 2.6326 - val_loss: 2.6700\n",
      "Epoch 9/10\n",
      " - 114s - loss: 2.6663 - val_loss: 2.6553\n",
      "Epoch 10/10\n",
      " - 114s - loss: 2.6563 - val_loss: 2.6469\n",
      "Training finished...Loading the best model\n",
      "\n"
     ]
    }
   ],
   "source": [
    "# Define ModelCheckpoint outside the loop\n",
    "checkpointer = ModelCheckpoint(filepath=r\"C:\\Users\\saipo\\Desktop\\CSC215\\finalproject\\wts5.hdf5\", verbose=0, save_best_only=True) # save best model\n",
    "\n",
    "for i in range(5):\n",
    "    print(i)\n",
    "\n",
    "    # Build network\n",
    "    model = Sequential()\n",
    "    model.add(Dense(512, input_dim=x1.shape[1], activation='relu'))\n",
    "    model.add(Dense(512, activation='relu'))\n",
    "    model.add(Dense(y1.shape[1], activation='softmax'))\n",
    "    model.compile(loss='categorical_crossentropy', optimizer='adam')\n",
    "\n",
    "    monitor = EarlyStopping(monitor='val_loss', min_delta=1e-3, patience=5, verbose=1, mode='auto')\n",
    "\n",
    "    model.fit(x1,y1,validation_data=(x2,y2),callbacks=[monitor,checkpointer],verbose=2,epochs=10)\n",
    "\n",
    "\n",
    "print('Training finished...Loading the best model')  \n",
    "print()\n"
   ]
  },
  {
   "cell_type": "code",
   "execution_count": 80,
   "metadata": {},
   "outputs": [
    {
     "data": {
      "image/png": "[encoded data removed]",
      "text/plain": [
       "<Figure size 432x288 with 1 Axes>"
      ]
     },
     "metadata": {
      "needs_background": "light"
     },
     "output_type": "display_data"
    }
   ],
   "source": [
    "#seed is a function of numpy, which will give the same output each time it is executed.\n",
    "np.random.seed(100)\n",
    "names = ('rf','knn','logreg','xgb','Dnn','bates')\n",
    "y_pos = np.arange(len(names))\n",
    "\n",
    "bins = np.arange(len(names))\n",
    "data= [2.37,2.61,2.61,2.36,2.63,2.63]\n",
    "\n",
    "\n",
    "plt.bar(bins, data, align='center', facecolor='yellow')\n",
    "plt.ylabel('log_loss')\n",
    "plt.xlabel('Machine Learning Algorithms')\n",
    "plt.title(r'Histogram')\n",
    "\n",
    "plt.grid(True)\n",
    "\n",
    "plt.xticks(y_pos, names)\n",
    "\n",
    "plt.show()"
   ]
  }
 ],
 "metadata": {
  "kernelspec": {
   "display_name": "Python 3",
   "language": "python",
   "name": "python3"
  },
  "language_info": {
   "codemirror_mode": {
    "name": "ipython",
    "version": 3
   },
   "file_extension": ".py",
   "mimetype": "text/x-python",
   "name": "python",
   "nbconvert_exporter": "python",
   "pygments_lexer": "ipython3",
   "version": "3.7.4"
  }
 },
 "nbformat": 4,
 "nbformat_minor": 2
}
